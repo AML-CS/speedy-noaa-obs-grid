{
 "cells": [
  {
   "cell_type": "code",
   "execution_count": 36,
   "metadata": {
    "id": "x3b5Bz1dX2DB"
   },
   "outputs": [],
   "source": [
    "import numpy as np"
   ]
  },
  {
   "cell_type": "code",
   "execution_count": 37,
   "metadata": {
    "id": "2aRFhDCtX8t5"
   },
   "outputs": [],
   "source": [
    "M = np.array([[0,1],[2,3]])"
   ]
  },
  {
   "cell_type": "code",
   "execution_count": 38,
   "metadata": {
    "colab": {
     "base_uri": "https://localhost:8080/",
     "height": 52
    },
    "id": "gHgcdrqeYJVd",
    "outputId": "6a0ac9d7-3adb-4c76-fd30-3cfd742e28d2"
   },
   "outputs": [
    {
     "data": {
      "text/plain": [
       "array([[0, 1],\n",
       "       [2, 3]])"
      ]
     },
     "execution_count": 38,
     "metadata": {
      "tags": []
     },
     "output_type": "execute_result"
    }
   ],
   "source": [
    "M"
   ]
  },
  {
   "cell_type": "code",
   "execution_count": 39,
   "metadata": {
    "colab": {
     "base_uri": "https://localhost:8080/",
     "height": 87
    },
    "id": "HCUS24C8YMfb",
    "outputId": "75b51112-b68d-4ca4-94c3-725af271f9d0"
   },
   "outputs": [
    {
     "data": {
      "text/plain": [
       "array([[0],\n",
       "       [1],\n",
       "       [2],\n",
       "       [3]])"
      ]
     },
     "execution_count": 39,
     "metadata": {
      "tags": []
     },
     "output_type": "execute_result"
    }
   ],
   "source": [
    "M.reshape((4,1))"
   ]
  },
  {
   "cell_type": "code",
   "execution_count": 40,
   "metadata": {
    "id": "ZrQeD8aZZmK0"
   },
   "outputs": [],
   "source": [
    "X_speedy_long = np.linspace(360-3.75,0,96)\n",
    "Y_speedy_lat = np.array(\"-87.159 -83.479 -79.777 -76.070 -72.362 -68.652 -64.942 -61.232 -57.521 -53.810 -50.099 -46.389 -42.678 -38.967 -35.256 -31.545 -27.833 -24.122 -20.411 -16.700 -12.989 -9.278 -5.567 -1.856 1.856 5.567 9.278 12.989 16.700 20.411 24.122 27.833 31.545 35.256 38.967 42.678 46.389 50.099 53.810 57.521 61.232 64.942 68.652 72.362 76.070 79.777 83.479 87.159\".split(\" \"))\n",
    "Y_speedy_lat = Y_speedy_lat.astype(np.float32)\n",
    "\n",
    "N_lon_speedy = X_speedy_long.size\n",
    "N_lat_speedy = Y_speedy_lat.size\n",
    "\n",
    "X_noaa_long = np.linspace(360-2.5,0,144)\n",
    "Y_noaa_lat = np.linspace(-90,90,73)\n",
    "\n",
    "N_lon_noaa = X_noaa_long.size\n",
    "N_lat_noaa = Y_noaa_lat.size\n",
    "\n",
    "\n",
    "obs_speedy = np.zeros((N_lon_speedy,N_lat_speedy));\n",
    "\n",
    "obs_noaa = np.zeros((N_lon_noaa,N_lat_noaa));\n",
    "\n"
   ]
  },
  {
   "cell_type": "code",
   "execution_count": 41,
   "metadata": {
    "colab": {
     "base_uri": "https://localhost:8080/",
     "height": 34
    },
    "id": "RwlKQgGLZ-cS",
    "outputId": "f0143a0d-72e2-4cfc-90d0-ae52f75fe0fe"
   },
   "outputs": [
    {
     "data": {
      "text/plain": [
       "(96, 48)"
      ]
     },
     "execution_count": 41,
     "metadata": {
      "tags": []
     },
     "output_type": "execute_result"
    }
   ],
   "source": [
    "obs_speedy.shape"
   ]
  },
  {
   "cell_type": "code",
   "execution_count": 42,
   "metadata": {
    "colab": {
     "base_uri": "https://localhost:8080/",
     "height": 34
    },
    "id": "O1HArxOzaJ5V",
    "outputId": "a8569389-6a27-45c1-8214-5933054c5f26"
   },
   "outputs": [
    {
     "data": {
      "text/plain": [
       "(144, 73)"
      ]
     },
     "execution_count": 42,
     "metadata": {
      "tags": []
     },
     "output_type": "execute_result"
    }
   ],
   "source": [
    "obs_noaa.shape"
   ]
  },
  {
   "cell_type": "code",
   "execution_count": 43,
   "metadata": {
    "id": "Cw-H6_zIcheu"
   },
   "outputs": [],
   "source": [
    "obs_speedy = np.array([i for i in range(0,96*48)]);"
   ]
  },
  {
   "cell_type": "code",
   "execution_count": 44,
   "metadata": {
    "colab": {
     "base_uri": "https://localhost:8080/",
     "height": 34
    },
    "id": "EKmFH_88cvSF",
    "outputId": "c9709e9c-c230-4e1a-a3a9-ce3ba37301ad"
   },
   "outputs": [
    {
     "data": {
      "text/plain": [
       "array([   0,    1,    2, ..., 4605, 4606, 4607])"
      ]
     },
     "execution_count": 44,
     "metadata": {
      "tags": []
     },
     "output_type": "execute_result"
    }
   ],
   "source": [
    "obs_speedy"
   ]
  },
  {
   "cell_type": "code",
   "execution_count": 45,
   "metadata": {
    "id": "hNVfxvZecxFi"
   },
   "outputs": [],
   "source": [
    "obs_speedy = obs_speedy.reshape((96,48))"
   ]
  },
  {
   "cell_type": "code",
   "execution_count": 46,
   "metadata": {
    "id": "GfgfxkpfdIRv"
   },
   "outputs": [],
   "source": [
    "obs_noaa = np.array([i for i in range(0,144*73)])"
   ]
  },
  {
   "cell_type": "code",
   "execution_count": 47,
   "metadata": {
    "id": "i4E9YkefdWrN"
   },
   "outputs": [],
   "source": [
    "obs_noaa = obs_noaa.reshape((144,73))"
   ]
  },
  {
   "cell_type": "code",
   "execution_count": 48,
   "metadata": {
    "id": "7Vq0aG-1dfSA"
   },
   "outputs": [],
   "source": [
    "np.save('obs_noaa.npy',obs_noaa)"
   ]
  },
  {
   "cell_type": "code",
   "execution_count": 49,
   "metadata": {
    "id": "dW5h2siJdtE2"
   },
   "outputs": [],
   "source": [
    "np.save('obs_speedy.npy',obs_noaa)"
   ]
  },
  {
   "cell_type": "code",
   "execution_count": 50,
   "metadata": {
    "id": "RBk6SX99d7oW"
   },
   "outputs": [],
   "source": [
    "obs_new_noaa = np.load('obs_noaa.npy')"
   ]
  },
  {
   "cell_type": "code",
   "execution_count": 51,
   "metadata": {
    "colab": {
     "base_uri": "https://localhost:8080/",
     "height": 140
    },
    "id": "urm05y_OeCCZ",
    "outputId": "7a22d11d-78b9-4307-e78e-ea1e48fcfdc8"
   },
   "outputs": [
    {
     "data": {
      "text/plain": [
       "array([[    0,     1,     2, ...,    70,    71,    72],\n",
       "       [   73,    74,    75, ...,   143,   144,   145],\n",
       "       [  146,   147,   148, ...,   216,   217,   218],\n",
       "       ...,\n",
       "       [10293, 10294, 10295, ..., 10363, 10364, 10365],\n",
       "       [10366, 10367, 10368, ..., 10436, 10437, 10438],\n",
       "       [10439, 10440, 10441, ..., 10509, 10510, 10511]])"
      ]
     },
     "execution_count": 51,
     "metadata": {
      "tags": []
     },
     "output_type": "execute_result"
    }
   ],
   "source": [
    "obs_new_noaa"
   ]
  }
 ],
 "metadata": {
  "colab": {
   "name": "Test_RowMajorOrWhat.ipynb",
   "provenance": []
  },
  "kernelspec": {
   "display_name": "Python 3",
   "language": "python",
   "name": "python3"
  },
  "language_info": {
   "codemirror_mode": {
    "name": "ipython",
    "version": 3
   },
   "file_extension": ".py",
   "mimetype": "text/x-python",
   "name": "python",
   "nbconvert_exporter": "python",
   "pygments_lexer": "ipython3",
   "version": "3.6.8"
  }
 },
 "nbformat": 4,
 "nbformat_minor": 1
}
