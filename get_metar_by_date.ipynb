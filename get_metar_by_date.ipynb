{
 "cells": [
  {
   "cell_type": "code",
   "execution_count": 1,
   "metadata": {},
   "outputs": [
    {
     "name": "stdout",
     "output_type": "stream",
     "text": [
      "Requirement already satisfied: beautifulsoup4 in /home/syseng/sjdonado/.local/lib/python3.6/site-packages\n",
      "Requirement already satisfied: soupsieve>1.2; python_version >= \"3.0\" in /home/syseng/sjdonado/.local/lib/python3.6/site-packages (from beautifulsoup4)\n",
      "Requirement already satisfied: metar in /home/syseng/sjdonado/.local/lib/python3.6/site-packages\n"
     ]
    }
   ],
   "source": [
    "!pip3 install beautifulsoup4 --user\n",
    "!pip3 install metar --user\n",
    "!pip3 install -q -U tqdm --user"
   ]
  },
  {
   "cell_type": "code",
   "execution_count": 16,
   "metadata": {},
   "outputs": [],
   "source": [
    "import re\n",
    "import multiprocessing\n",
    "from urllib.request import urlopen\n",
    "from bs4 import BeautifulSoup\n",
    "from tqdm.notebook import tqdm\n",
    "from metar import Metar\n",
    "import pandas as pd"
   ]
  },
  {
   "cell_type": "code",
   "execution_count": 2,
   "metadata": {},
   "outputs": [],
   "source": [
    "def fetch(url):\n",
    "  try:\n",
    "    html = urlopen(url).read()\n",
    "    soup = BeautifulSoup(html, features='html.parser')\n",
    "    for script in soup([\"script\", \"style\"]):\n",
    "        script.extract()\n",
    "    return soup\n",
    "  except Exception:\n",
    "    return None\n",
    "\n",
    "def get_stations_noaa():\n",
    "  soup = fetch('https://tgftp.nws.noaa.gov/data/observations/metar/stations/')\n",
    "  stations = []\n",
    "  for link in soup.find_all('a'):\n",
    "    href = link.get('href')\n",
    "    if 'TXT' in href:\n",
    "      stations.append(href.split('.TXT')[0])\n",
    "  return stations\n",
    "\n",
    "def get_stations_with_coords():\n",
    "  soup = fetch('http://weather.rap.ucar.edu/surface/stations.txt')\n",
    "  text = soup.get_text()\n",
    "  matches = re.findall(r\".*([A-Z]{4}).*[\\s]([\\d]+\\s[\\d]+\\w).*[\\s]([\\d]+\\s[\\d]+\\w)[\\s]*(\\d{1,4}).*\", text)\n",
    "  stations = []\n",
    "  for match in matches:\n",
    "    stations.append({'ICAO': match[0], 'coords': \"+\".join(match[1:]).replace(' ', '-')})\n",
    "  return stations\n",
    "\n",
    "def get_all_metar_obs(station, month):\n",
    "  soup = fetch(f\"https://www.ogimet.com/display_metars2.php?lugar={station['ICAO']}&tipo=SA&ord=DIR&nil=NO&fmt=txt&ano=2020&mes={month}&day=1&hora=00&anof=2020&mesf={month}&dayf=30&horaf=12&minf=59&enviar=Ver\")\n",
    "  if soup is None:\n",
    "    return []\n",
    "  text = soup.get_text()\n",
    "  if f\"No hay METAR/SPECI de {station} en el periodo solicitado\" in text:\n",
    "    return []\n",
    "  data = []\n",
    "  for ob in re.findall(\"METAR\\s(.*)=\", text):\n",
    "    if ',' not in ob:\n",
    "      data.append({ 'coords': station['coords'], 'observation': ob })\n",
    "  return data"
   ]
  },
  {
   "cell_type": "code",
   "execution_count": 3,
   "metadata": {},
   "outputs": [
    {
     "name": "stdout",
     "output_type": "stream",
     "text": [
      "9580\n"
     ]
    }
   ],
   "source": [
    "noaa_stations = get_stations_with_coords()\n",
    "print(len(noaa_stations))"
   ]
  },
  {
   "cell_type": "code",
   "execution_count": 4,
   "metadata": {},
   "outputs": [
    {
     "name": "stdout",
     "output_type": "stream",
     "text": [
      "{'ICAO': 'PAEL', 'coords': '58-12N+136-21W+3'}\n"
     ]
    }
   ],
   "source": [
    "test_month = 9\n",
    "test_station = noaa_stations[50]\n",
    "print(test_station)\n",
    "metar = get_all_metar_obs(test_station, test_month)"
   ]
  },
  {
   "cell_type": "code",
   "execution_count": 5,
   "metadata": {},
   "outputs": [
    {
     "data": {
      "text/plain": [
       "[{'coords': '58-12N+136-21W+3',\n",
       "  'observation': 'PAEL 061445Z 00000KT 25SM SCT250 07/06 A3035 RMK NOSPECI'},\n",
       " {'coords': '58-12N+136-21W+3',\n",
       "  'observation': 'PAEL 070049Z VRB04KT 20SM OVC140 16/05 A3044 RMK NOSPECI'},\n",
       " {'coords': '58-12N+136-21W+3',\n",
       "  'observation': 'PAEL 111447Z 00000KT 25SM SKC 07/06 A3020 RMK NOSPECI'},\n",
       " {'coords': '58-12N+136-21W+3',\n",
       "  'observation': 'PAEL 120048Z VRB05KT 20SM SKC 13/07 A3013 RMK NOSPECI'},\n",
       " {'coords': '58-12N+136-21W+3',\n",
       "  'observation': 'PAEL 121445Z 00000KT 25SM SKC 06/04 A3012 RMK NOSPECI'},\n",
       " {'coords': '58-12N+136-21W+3',\n",
       "  'observation': 'PAEL 130058Z 10008KT 20SM SCT150 15/M00 A3005 RMK NOSPECI'},\n",
       " {'coords': '58-12N+136-21W+3',\n",
       "  'observation': 'PAEL 131445Z 00000KT 25SM SKC 06/04 A3004 RMK NOSPECI'},\n",
       " {'coords': '58-12N+136-21W+3',\n",
       "  'observation': 'PAEL 141445Z 00000KT 25SM SKC 07/03 A3011 RMK NOSPECI'},\n",
       " {'coords': '58-12N+136-21W+3',\n",
       "  'observation': 'PAEL 151445Z 00000KT 25SM FEW300 05/04 A3014 RMK NOSPECI'},\n",
       " {'coords': '58-12N+136-21W+3',\n",
       "  'observation': 'PAEL 151846Z 00000KT 25SM SKC 11/06 A3014 RMK NOSPECI'},\n",
       " {'coords': '58-12N+136-21W+3',\n",
       "  'observation': 'PAEL 152048Z 00000KT 25SM SKC 13/06 A3015 RMK NOSPECI'},\n",
       " {'coords': '58-12N+136-21W+3',\n",
       "  'observation': 'PAEL 160049Z 00000KT 25SM FEW300 12/09 A3015 RMK NOSPECI'},\n",
       " {'coords': '58-12N+136-21W+3',\n",
       "  'observation': 'PAEL 161445Z 00000KT 25SM SCT020 08/07 A3012 RMK NOSPECI'},\n",
       " {'coords': '58-12N+136-21W+3',\n",
       "  'observation': 'PAEL 171445Z 00000KT 25SM FEW250 08/07 A3002 RMK NOSPECI'},\n",
       " {'coords': '58-12N+136-21W+3',\n",
       "  'observation': 'PAEL 172056Z 00000KT 20SM BKN120 12/09 A3002 RMK NOSPECI'},\n",
       " {'coords': '58-12N+136-21W+3',\n",
       "  'observation': 'PAEL 180046Z 00000KT 20SM OVC120 12/08 A2999 RMK NOSPECI'},\n",
       " {'coords': '58-12N+136-21W+3',\n",
       "  'observation': 'PAEL 211445Z 00000KT 12SM OVC030 09/08 A2975 RMK NOSPECI'},\n",
       " {'coords': '58-12N+136-21W+3',\n",
       "  'observation': 'PAEL 261445Z 00000KT 15SM OVC035 09/09 A2958 RMK NOSPECI'}]"
      ]
     },
     "execution_count": 5,
     "metadata": {},
     "output_type": "execute_result"
    }
   ],
   "source": [
    "metar"
   ]
  },
  {
   "cell_type": "code",
   "execution_count": 6,
   "metadata": {},
   "outputs": [
    {
     "name": "stdout",
     "output_type": "stream",
     "text": [
      "58-12N+136-21W+3\n",
      "station: PAEL\n",
      "type: routine report, cycle 15 (automatic report)\n",
      "time: Tue Oct  6 14:45:00 2020\n",
      "temperature: 7.0 C\n",
      "dew point: 6.0 C\n",
      "wind: calm\n",
      "visibility: 25 miles\n",
      "pressure: 1027.8 mb\n",
      "sky: scattered clouds at 25000 feet\n",
      "- NOSPECI\n",
      "METAR: PAEL 061445Z 00000KT 25SM SCT250 07/06 A3035 RMK NOSPECI\n"
     ]
    }
   ],
   "source": [
    "test = metar[0]\n",
    "print(test['coords'])\n",
    "obs = Metar.Metar(test['observation'])\n",
    "print(obs.string())"
   ]
  },
  {
   "cell_type": "code",
   "execution_count": 7,
   "metadata": {},
   "outputs": [],
   "source": [
    "def get_metars(station):\n",
    "    localdata=[]\n",
    "    for idx in range(0, 2):\n",
    "        metar_obs = get_all_metar_obs(station, month-idx)\n",
    "        for obs_item in metar_obs:\n",
    "            localdata.append(f\"{obs_item['coords']},{obs_item['observation']}\")\n",
    "    return localdata"
   ]
  },
  {
   "cell_type": "code",
   "execution_count": 13,
   "metadata": {},
   "outputs": [],
   "source": [
    "month = 9\n",
    "if __name__ == '__main__':\n",
    "    trabajos=multiprocessing.cpu_count()\n",
    "    with multiprocessing.Pool(trabajos-1) as p:\n",
    "        data=p.map(get_metars,noaa_stations)      "
   ]
  },
  {
   "cell_type": "code",
   "execution_count": 14,
   "metadata": {},
   "outputs": [
    {
     "name": "stdout",
     "output_type": "stream",
     "text": [
      "2702836\n"
     ]
    }
   ],
   "source": [
    "data2=[]\n",
    "for lista in data:\n",
    "    if lista is not None:\n",
    "        for i in lista:\n",
    "            data2.append(i)\n",
    "print(len(data2))"
   ]
  },
  {
   "cell_type": "code",
   "execution_count": 24,
   "metadata": {},
   "outputs": [],
   "source": [
    "path = f'{month-1}-{month}_metar.csv'\n",
    "f = open(path,'w')\n",
    "f.write('coordinates,observation\\n')\n",
    "for line in data2:\n",
    "    f.write(line)\n",
    "f.close()"
   ]
  },
  {
   "cell_type": "code",
   "execution_count": null,
   "metadata": {},
   "outputs": [],
   "source": []
  }
 ],
 "metadata": {
  "kernelspec": {
   "display_name": "Python 3",
   "language": "python",
   "name": "python3"
  },
  "language_info": {
   "codemirror_mode": {
    "name": "ipython",
    "version": 3
   },
   "file_extension": ".py",
   "mimetype": "text/x-python",
   "name": "python",
   "nbconvert_exporter": "python",
   "pygments_lexer": "ipython3",
   "version": "3.6.8"
  }
 },
 "nbformat": 4,
 "nbformat_minor": 4
}
