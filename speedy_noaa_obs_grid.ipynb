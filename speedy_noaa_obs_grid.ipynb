{
 "cells": [
  {
   "cell_type": "code",
   "execution_count": 1,
   "metadata": {},
   "outputs": [
    {
     "name": "stdout",
     "output_type": "stream",
     "text": [
      "Requirement already satisfied: metar in /home/syseng/sjdonado/.local/lib/python3.6/site-packages\n",
      "Collecting pyproj==1.9.6\n",
      "  Using cached https://files.pythonhosted.org/packages/26/8c/1da0580f334718e04f8bbf74f0515a7fb8185ff96b2560ce080c11aa145b/pyproj-1.9.6.tar.gz\n",
      "Installing collected packages: pyproj\n",
      "  Found existing installation: pyproj 2.6.1.post1\n",
      "    Uninstalling pyproj-2.6.1.post1:\n",
      "      Successfully uninstalled pyproj-2.6.1.post1\n",
      "  Running setup.py install for pyproj ... \u001b[?25ldone\n",
      "\u001b[?25hSuccessfully installed pyproj-1.9.6\n",
      "Requirement already satisfied: portolan in /home/syseng/sjdonado/.local/lib/python3.6/site-packages\n",
      "Requirement already satisfied: pandas in /home/syseng/sjdonado/.local/lib/python3.6/site-packages\n",
      "Requirement already satisfied: python-dateutil>=2.7.3 in /home/syseng/sjdonado/.local/lib/python3.6/site-packages (from pandas)\n",
      "Requirement already satisfied: pytz>=2017.2 in /home/syseng/sjdonado/.local/lib/python3.6/site-packages (from pandas)\n",
      "Requirement already satisfied: numpy>=1.15.4 in /home/syseng/sjdonado/.local/lib/python3.6/site-packages (from pandas)\n",
      "Requirement already satisfied: six>=1.5 in /home/syseng/sjdonado/.local/lib/python3.6/site-packages (from python-dateutil>=2.7.3->pandas)\n"
     ]
    }
   ],
   "source": [
    "!pip3 install metar --user\n",
    "!pip3 install -q -U tqdm --user\n",
    "!pip3 install pyproj==1.9.6 --user\n",
    "!pip3 install -q -U https://github.com/matplotlib/basemap/archive/master.zip --user\n",
    "!pip3 install portolan --user\n",
    "!pip3 install pandas --user"
   ]
  },
  {
   "cell_type": "code",
   "execution_count": 2,
   "metadata": {},
   "outputs": [],
   "source": [
    "import re\n",
    "import datetime\n",
    "from datetime import date, timedelta\n",
    "import numpy as np\n",
    "import pandas as pd\n",
    "import multiprocessing\n",
    "from urllib.request import urlopen\n",
    "from bs4 import BeautifulSoup\n",
    "from tqdm.notebook import tqdm\n",
    "from mpl_toolkits.basemap import Basemap\n",
    "import matplotlib.pyplot as plt\n",
    "\n",
    "from metar import Metar\n",
    "\n",
    "import portolan"
   ]
  },
  {
   "cell_type": "code",
   "execution_count": 3,
   "metadata": {},
   "outputs": [
    {
     "data": {
      "image/png": "[encoded data removed]",
      "text/plain": [
       "<Figure size 432x288 with 1 Axes>"
      ]
     },
     "metadata": {
      "needs_background": "light"
     },
     "output_type": "display_data"
    }
   ],
   "source": [
    "X_speedy_lon = np.linspace(0,360-3.75,96)\n",
    "Y_speedy_lat = np.array(\"-87.159 -83.479 -79.777 -76.070 -72.362 -68.652 -64.942 -61.232 -57.521 -53.810 -50.099 -46.389 -42.678 -38.967 -35.256 -31.545 -27.833 -24.122 -20.411 -16.700 -12.989 -9.278 -5.567 -1.856 1.856 5.567 9.278 12.989 16.700 20.411 24.122 27.833 31.545 35.256 38.967 42.678 46.389 50.099 53.810 57.521 61.232 64.942 68.652 72.362 76.070 79.777 83.479 87.159\".split(\" \"))\n",
    "Y_speedy_lat = Y_speedy_lat.astype(np.float32)\n",
    "\n",
    "def plot_speedy():\n",
    "    plt.figure()\n",
    "    for x in X_speedy_lon:\n",
    "        for y in Y_speedy_lat:\n",
    "            plt.plot(x,y,'ko',ms=1);\n",
    "\n",
    "plot_speedy()"
   ]
  },
  {
   "cell_type": "code",
   "execution_count": 4,
   "metadata": {},
   "outputs": [
    {
     "data": {
      "image/png": "[encoded data removed]",
      "text/plain": [
       "<Figure size 432x288 with 1 Axes>"
      ]
     },
     "metadata": {
      "needs_background": "light"
     },
     "output_type": "display_data"
    }
   ],
   "source": [
    "## NOAA latitude goes from North To South\n",
    "X_noaa_lon = np.linspace(0,360-2.5,144)\n",
    "Y_noaa_lat = np.linspace(90,-90,73)\n",
    "\n",
    "def plot_noaa():\n",
    "    plt.figure()\n",
    "    for x in X_noaa_lon:\n",
    "        for y in Y_noaa_lat:\n",
    "            plt.plot(x,y,'ko',ms=1);\n",
    "\n",
    "plot_noaa()"
   ]
  },
  {
   "cell_type": "code",
   "execution_count": 5,
   "metadata": {},
   "outputs": [],
   "source": [
    "def fetch(url):\n",
    "    try:\n",
    "        html = urlopen(url).read()\n",
    "        soup = BeautifulSoup(html, features='html.parser')\n",
    "        for script in soup(['script', 'style']):\n",
    "            script.extract()\n",
    "        return soup\n",
    "    except Exception as e:\n",
    "        print(e)\n",
    "        return None\n",
    "\n",
    "\n",
    "def get_stations_noaa():\n",
    "    soup = fetch('https://tgftp.nws.noaa.gov/data/observations/metar/stations/')\n",
    "    stations = []\n",
    "    for link in soup.find_all('a'):\n",
    "        href = link.get('href')\n",
    "        if 'TXT' in href:\n",
    "            stations.append(href.split('.TXT')[0])\n",
    "    return stations\n",
    "\n",
    "\n",
    "def get_stations_with_coords():\n",
    "    soup = fetch('http://128.117.200.221/surface/stations.txt')\n",
    "    text = soup.get_text()\n",
    "    matches = re.findall(r\".*([A-Z]{4}).*[\\s]([\\d]+\\s[\\d]+\\w).*[\\s]([\\d]+\\s[\\d]+\\w)[\\s]*(\\d{1,4}).*\", text)\n",
    "    stations = []\n",
    "    for match in matches:\n",
    "        stations.append({'ICAO': match[0],\n",
    "                        'coords': '+'.join(match[1:]).replace(' ', '-'\n",
    "                        )})\n",
    "    return stations\n"
   ]
  },
  {
   "cell_type": "code",
   "execution_count": 6,
   "metadata": {},
   "outputs": [
    {
     "ename": "KeyboardInterrupt",
     "evalue": "",
     "output_type": "error",
     "traceback": [
      "\u001b[0;31m---------------------------------------------------------------------------\u001b[0m",
      "\u001b[0;31mKeyboardInterrupt\u001b[0m                         Traceback (most recent call last)",
      "\u001b[0;32m<ipython-input-6-4c3c090b3fe5>\u001b[0m in \u001b[0;36m<module>\u001b[0;34m\u001b[0m\n\u001b[0;32m----> 1\u001b[0;31m \u001b[0mdf\u001b[0m \u001b[0;34m=\u001b[0m \u001b[0mpd\u001b[0m\u001b[0;34m.\u001b[0m\u001b[0mread_csv\u001b[0m\u001b[0;34m(\u001b[0m\u001b[0;34m'8-9_metar.csv'\u001b[0m\u001b[0;34m)\u001b[0m\u001b[0;34m\u001b[0m\u001b[0;34m\u001b[0m\u001b[0m\n\u001b[0m\u001b[1;32m      2\u001b[0m \u001b[0mdf\u001b[0m\u001b[0;34m.\u001b[0m\u001b[0mhead\u001b[0m\u001b[0;34m(\u001b[0m\u001b[0;34m)\u001b[0m\u001b[0;34m\u001b[0m\u001b[0;34m\u001b[0m\u001b[0m\n",
      "\u001b[0;32m~/.local/lib/python3.6/site-packages/pandas/io/parsers.py\u001b[0m in \u001b[0;36mread_csv\u001b[0;34m(filepath_or_buffer, sep, delimiter, header, names, index_col, usecols, squeeze, prefix, mangle_dupe_cols, dtype, engine, converters, true_values, false_values, skipinitialspace, skiprows, skipfooter, nrows, na_values, keep_default_na, na_filter, verbose, skip_blank_lines, parse_dates, infer_datetime_format, keep_date_col, date_parser, dayfirst, cache_dates, iterator, chunksize, compression, thousands, decimal, lineterminator, quotechar, quoting, doublequote, escapechar, comment, encoding, dialect, error_bad_lines, warn_bad_lines, delim_whitespace, low_memory, memory_map, float_precision)\u001b[0m\n\u001b[1;32m    684\u001b[0m     )\n\u001b[1;32m    685\u001b[0m \u001b[0;34m\u001b[0m\u001b[0m\n\u001b[0;32m--> 686\u001b[0;31m     \u001b[0;32mreturn\u001b[0m \u001b[0m_read\u001b[0m\u001b[0;34m(\u001b[0m\u001b[0mfilepath_or_buffer\u001b[0m\u001b[0;34m,\u001b[0m \u001b[0mkwds\u001b[0m\u001b[0;34m)\u001b[0m\u001b[0;34m\u001b[0m\u001b[0;34m\u001b[0m\u001b[0m\n\u001b[0m\u001b[1;32m    687\u001b[0m \u001b[0;34m\u001b[0m\u001b[0m\n\u001b[1;32m    688\u001b[0m \u001b[0;34m\u001b[0m\u001b[0m\n",
      "\u001b[0;32m~/.local/lib/python3.6/site-packages/pandas/io/parsers.py\u001b[0m in \u001b[0;36m_read\u001b[0;34m(filepath_or_buffer, kwds)\u001b[0m\n\u001b[1;32m    456\u001b[0m \u001b[0;34m\u001b[0m\u001b[0m\n\u001b[1;32m    457\u001b[0m     \u001b[0;32mtry\u001b[0m\u001b[0;34m:\u001b[0m\u001b[0;34m\u001b[0m\u001b[0;34m\u001b[0m\u001b[0m\n\u001b[0;32m--> 458\u001b[0;31m         \u001b[0mdata\u001b[0m \u001b[0;34m=\u001b[0m \u001b[0mparser\u001b[0m\u001b[0;34m.\u001b[0m\u001b[0mread\u001b[0m\u001b[0;34m(\u001b[0m\u001b[0mnrows\u001b[0m\u001b[0;34m)\u001b[0m\u001b[0;34m\u001b[0m\u001b[0;34m\u001b[0m\u001b[0m\n\u001b[0m\u001b[1;32m    459\u001b[0m     \u001b[0;32mfinally\u001b[0m\u001b[0;34m:\u001b[0m\u001b[0;34m\u001b[0m\u001b[0;34m\u001b[0m\u001b[0m\n\u001b[1;32m    460\u001b[0m         \u001b[0mparser\u001b[0m\u001b[0;34m.\u001b[0m\u001b[0mclose\u001b[0m\u001b[0;34m(\u001b[0m\u001b[0;34m)\u001b[0m\u001b[0;34m\u001b[0m\u001b[0;34m\u001b[0m\u001b[0m\n",
      "\u001b[0;32m~/.local/lib/python3.6/site-packages/pandas/io/parsers.py\u001b[0m in \u001b[0;36mread\u001b[0;34m(self, nrows)\u001b[0m\n\u001b[1;32m   1194\u001b[0m     \u001b[0;32mdef\u001b[0m \u001b[0mread\u001b[0m\u001b[0;34m(\u001b[0m\u001b[0mself\u001b[0m\u001b[0;34m,\u001b[0m \u001b[0mnrows\u001b[0m\u001b[0;34m=\u001b[0m\u001b[0;32mNone\u001b[0m\u001b[0;34m)\u001b[0m\u001b[0;34m:\u001b[0m\u001b[0;34m\u001b[0m\u001b[0;34m\u001b[0m\u001b[0m\n\u001b[1;32m   1195\u001b[0m         \u001b[0mnrows\u001b[0m \u001b[0;34m=\u001b[0m \u001b[0m_validate_integer\u001b[0m\u001b[0;34m(\u001b[0m\u001b[0;34m\"nrows\"\u001b[0m\u001b[0;34m,\u001b[0m \u001b[0mnrows\u001b[0m\u001b[0;34m)\u001b[0m\u001b[0;34m\u001b[0m\u001b[0;34m\u001b[0m\u001b[0m\n\u001b[0;32m-> 1196\u001b[0;31m         \u001b[0mret\u001b[0m \u001b[0;34m=\u001b[0m \u001b[0mself\u001b[0m\u001b[0;34m.\u001b[0m\u001b[0m_engine\u001b[0m\u001b[0;34m.\u001b[0m\u001b[0mread\u001b[0m\u001b[0;34m(\u001b[0m\u001b[0mnrows\u001b[0m\u001b[0;34m)\u001b[0m\u001b[0;34m\u001b[0m\u001b[0;34m\u001b[0m\u001b[0m\n\u001b[0m\u001b[1;32m   1197\u001b[0m \u001b[0;34m\u001b[0m\u001b[0m\n\u001b[1;32m   1198\u001b[0m         \u001b[0;31m# May alter columns / col_dict\u001b[0m\u001b[0;34m\u001b[0m\u001b[0;34m\u001b[0m\u001b[0;34m\u001b[0m\u001b[0m\n",
      "\u001b[0;32m~/.local/lib/python3.6/site-packages/pandas/io/parsers.py\u001b[0m in \u001b[0;36mread\u001b[0;34m(self, nrows)\u001b[0m\n\u001b[1;32m   2196\u001b[0m                     \u001b[0mvalues\u001b[0m \u001b[0;34m=\u001b[0m \u001b[0mdata\u001b[0m\u001b[0;34m.\u001b[0m\u001b[0mpop\u001b[0m\u001b[0;34m(\u001b[0m\u001b[0mself\u001b[0m\u001b[0;34m.\u001b[0m\u001b[0mindex_col\u001b[0m\u001b[0;34m[\u001b[0m\u001b[0mi\u001b[0m\u001b[0;34m]\u001b[0m\u001b[0;34m)\u001b[0m\u001b[0;34m\u001b[0m\u001b[0;34m\u001b[0m\u001b[0m\n\u001b[1;32m   2197\u001b[0m \u001b[0;34m\u001b[0m\u001b[0m\n\u001b[0;32m-> 2198\u001b[0;31m                 \u001b[0mvalues\u001b[0m \u001b[0;34m=\u001b[0m \u001b[0mself\u001b[0m\u001b[0;34m.\u001b[0m\u001b[0m_maybe_parse_dates\u001b[0m\u001b[0;34m(\u001b[0m\u001b[0mvalues\u001b[0m\u001b[0;34m,\u001b[0m \u001b[0mi\u001b[0m\u001b[0;34m,\u001b[0m \u001b[0mtry_parse_dates\u001b[0m\u001b[0;34m=\u001b[0m\u001b[0;32mTrue\u001b[0m\u001b[0;34m)\u001b[0m\u001b[0;34m\u001b[0m\u001b[0;34m\u001b[0m\u001b[0m\n\u001b[0m\u001b[1;32m   2199\u001b[0m                 \u001b[0marrays\u001b[0m\u001b[0;34m.\u001b[0m\u001b[0mappend\u001b[0m\u001b[0;34m(\u001b[0m\u001b[0mvalues\u001b[0m\u001b[0;34m)\u001b[0m\u001b[0;34m\u001b[0m\u001b[0;34m\u001b[0m\u001b[0m\n\u001b[1;32m   2200\u001b[0m \u001b[0;34m\u001b[0m\u001b[0m\n",
      "\u001b[0;31mKeyboardInterrupt\u001b[0m: "
     ]
    }
   ],
   "source": [
    "df = pd.read_csv('8-9_metar.csv')\n",
    "df.head()"
   ]
  },
  {
   "cell_type": "code",
   "execution_count": null,
   "metadata": {},
   "outputs": [],
   "source": [
    "len(df)"
   ]
  },
  {
   "cell_type": "code",
   "execution_count": null,
   "metadata": {},
   "outputs": [],
   "source": [
    "noaa_stations = get_stations_with_coords()"
   ]
  },
  {
   "cell_type": "code",
   "execution_count": null,
   "metadata": {},
   "outputs": [],
   "source": [
    "def gms_to_lat_lng(gms):\n",
    "  comp = gms.split('-')\n",
    "  if len(comp)==2:\n",
    "    if 'N' in comp[1] or 'E' in comp[1]:\n",
    "      return int(comp[0])+(int(comp[1][:len(comp)])/60)\n",
    "    else:\n",
    "      return -(int(comp[0])+(int(comp[1][:len(comp)])/60))\n",
    "  elif len(comp)==3:\n",
    "    if 'N' in comp[2] or 'E' in comp[2]:\n",
    "      return int(comp[0])+(int(comp[1][:len(comp)])/60)+(int(comp[2][:len(comp)-1])/60)\n",
    "    else:\n",
    "      comp[2]='0'+comp[2][:len(comp)-1]\n",
    "      return (-int(comp[0])-(int(comp[1][:len(comp)])/60)-(int(comp[2][:len(comp)-1])/3600))\n",
    "  else:\n",
    "    return 0\n",
    "\n",
    "def nearest_neighbour(X_lng, Y_lat, lng, lat):\n",
    "    diff_x = 100\n",
    "    diff_y = 100\n",
    "    pos_x = 0\n",
    "    pos_y = 0\n",
    "    for x in X_lng:\n",
    "        diff = abs(x - lng)\n",
    "        if diff_x > diff:\n",
    "            pos_x = x\n",
    "            diff_x = diff\n",
    "\n",
    "    for y in Y_lat:\n",
    "        diff = abs(y - lat)\n",
    "        if diff_y > diff:\n",
    "            pos_y = y\n",
    "            diff_y = diff\n",
    "    return (pos_x, pos_y)\n"
   ]
  },
  {
   "cell_type": "code",
   "execution_count": null,
   "metadata": {},
   "outputs": [],
   "source": [
    "PRESSURE_LEVELS_HEIGHTS_VALUES = [\n",
    "    762,\n",
    "    1458,\n",
    "    3013,\n",
    "    5576,\n",
    "    9166,\n",
    "    11787,\n",
    "    16000,\n",
    "]\n",
    "\n",
    "def wind_comps(obs):\n",
    "    # ESE at 11 knots\n",
    "    # WSW at greater than 99 knots\n",
    "    if 'knots' in obs and 'variable' not in obs:\n",
    "        compass_point, mag = re.findall(r\".*wind:\\s(\\w+).*([0-9]+)[\\s]knots\", obs)[0]\n",
    "        ang = portolan.middle(compass_point)\n",
    "        mag = int(mag) / 1.944\n",
    "        u = mag * np.sin(ang)\n",
    "        v = mag * np.cos(ang)\n",
    "        return (u, v)\n",
    "    else:\n",
    "        return (0, 0)\n",
    "\n",
    "\n",
    "def month2number(month_name):\n",
    "    datetime_object = datetime.datetime.strptime(month_name, '%b')\n",
    "    return datetime_object.month\n",
    "\n",
    "\n",
    "def parse_datetime(time):\n",
    "    return datetime.datetime.strptime(time, '%a %b %d %H:%M:%S %Y')\n",
    "\n",
    "def elev_to_press_level(elev):\n",
    "    max_diff = 10000\n",
    "    level = 0\n",
    "    for (idx, val) in enumerate(PRESSURE_LEVELS_HEIGHTS_VALUES):\n",
    "        diff = abs(val - elev)\n",
    "        if max_diff > diff:\n",
    "            level = idx\n",
    "            max_diff = diff\n",
    "    return level\n",
    "\n",
    "def calculate_rh(dew_point, temp):\n",
    "    c = 243.04\n",
    "    b = 17.625\n",
    "    return 100 * np.exp(c * b * (dew_point - temp) / ((c + temp) * (c + dew_point)))\n",
    "\n",
    "def parse_pressure(obs):\n",
    "    # pressure: 1027.8 mb\n",
    "    # 3-hr pressure change 1.7hPa, increasing, then decreasing\n",
    "    if 'pressure:' in obs:\n",
    "        press = float(re.findall(r\".*pressure:\\s(.*)[\\s]mb\\s*\", obs)[0]) * 100\n",
    "    else:\n",
    "        press = float(re.findall(r\".*pressure[\\s]change[\\s](.*)hPa\", obs)[0]) * 100\n",
    "    return press\n"
   ]
  },
  {
   "cell_type": "code",
   "execution_count": null,
   "metadata": {},
   "outputs": [],
   "source": [
    "idx = 1057228\n",
    "row = df.iloc[idx]\n",
    "obs = Metar.Metar(row['observation']).string()\n",
    "print(obs)\n",
    "print(row['lat'], row['lng'], row['elev'])\n",
    "elev_to_press_level(int(elev))"
   ]
  },
  {
   "cell_type": "code",
   "execution_count": null,
   "metadata": {},
   "outputs": [],
   "source": [
    "lati = []\n",
    "lngt = []\n",
    "lati2 = []\n",
    "lngt2 = []\n",
    "dataexport=[]\n",
    "for station in noaa_stations:\n",
    "    (lat, lng, elev) = station['coords'].split('+')\n",
    "    lati.append(gms_to_lat_lng(lat))\n",
    "    lngt.append(gms_to_lat_lng(lng))\n",
    "    nombreEstacion=station['ICAO']\n",
    "    dataexport.append([nombreEstacion,gms_to_lat_lng(lat),gms_to_lat_lng(lng),elev])\n",
    "m = Basemap(resolution='l', lat_0=0, lon_0=0)\n",
    "m.drawcoastlines()\n",
    "m.drawcountries()\n",
    "m.drawstates()\n",
    "m.drawparallels(np.arange(-87.159, 87.159, 20))\n",
    "m.drawmeridians(np.arange(0, 357.5, 20))\n",
    "m.fillcontinents(color='white')\n",
    "m.scatter(\n",
    "    lngt,\n",
    "    lati,\n",
    "    marker='+',\n",
    "    color='r',\n",
    "    zorder=1.5,\n",
    "    label='All stations',\n",
    "    )\n",
    "plt.legend()\n",
    "plt.savefig('estaciones.jpg', dpi=600)\n",
    "plt.show()\n",
    "\n",
    "for stat in obs_cords:\n",
    "    lati2.append(stat[0])\n",
    "    lngt2.append(stat[1])\n",
    "m = Basemap(resolution='l', lat_0=0, lon_0=0)\n",
    "m.drawcoastlines()\n",
    "m.drawcountries()\n",
    "m.drawstates()\n",
    "m.drawparallels(np.arange(-87.159, 87.159, 20))\n",
    "m.drawmeridians(np.arange(0, 357.5, 20))\n",
    "m.fillcontinents(color='white')\n",
    "m.scatter(\n",
    "    lngt2,\n",
    "    lati2,\n",
    "    marker='.',\n",
    "    color='b',\n",
    "    zorder=1.5,\n",
    "    label='Active stations',\n",
    "    )\n",
    "plt.legend()\n",
    "plt.savefig('estaciones2.jpg', dpi=600)\n",
    "plt.show()\n",
    "\n",
    "m = Basemap(resolution='l', lat_0=0, lon_0=0)\n",
    "m.drawcoastlines()\n",
    "m.drawcountries()\n",
    "m.drawstates()\n",
    "m.drawparallels(np.arange(-87.159, 87.159, 20))\n",
    "m.drawmeridians(np.arange(0, 357.5, 20))\n",
    "m.fillcontinents(color='white')\n",
    "m.scatter(\n",
    "    lngt,\n",
    "    lati,\n",
    "    marker='+',\n",
    "    color='r',\n",
    "    zorder=1.5,\n",
    "    label='All stations',\n",
    "    )\n",
    "m.scatter(\n",
    "    lngt2,\n",
    "    lati2,\n",
    "    marker='.',\n",
    "    color='b',\n",
    "    zorder=1.5,\n",
    "    label='Active stations',\n",
    "    )\n",
    "plt.legend()\n",
    "plt.savefig('estaciones3.jpg', dpi=600)\n",
    "plt.show()\n"
   ]
  },
  {
   "cell_type": "code",
   "execution_count": null,
   "metadata": {},
   "outputs": [],
   "source": [
    "plot_speedy()\n",
    "for station in noaa_stations:\n",
    "    (lat, lng, elev) = station['coords'].split('+')\n",
    "    (x, y) = nearest_neighbour(X_speedy_lon, Y_speedy_lat,\n",
    "                               gms_to_lat_lng(lng) + 180,\n",
    "                               gms_to_lat_lng(lat))\n",
    "    plt.plot(x, y, 'ro', ms=1)\n",
    "\n",
    "for cord in tqdm(obs_cords):\n",
    "    (x, y) = nearest_neighbour(X_speedy_lon, Y_speedy_lat, cord[1]\n",
    "                               + 180, cord[0])\n",
    "    plt.plot(x, y, 'ko', ms=1)\n"
   ]
  },
  {
   "cell_type": "code",
   "execution_count": null,
   "metadata": {},
   "outputs": [],
   "source": [
    "plot_noaa()\n",
    "for station in noaa_stations:\n",
    "    (lat, lng, elev) = station['coords'].split('+')\n",
    "    (x, y) = nearest_neighbour(X_noaa_lon, Y_noaa_lat,\n",
    "                               gms_to_lat_lng(lng) + 180,\n",
    "                               gms_to_lat_lng(lat))\n",
    "    plt.plot(x, y, 'ro', ms=1)\n",
    "\n",
    "for cord in tqdm(obs_cords):\n",
    "    (x, y) = nearest_neighbour(X_noaa_lon, Y_noaa_lat, cord[1]\n",
    "                               + 180, cord[0])\n",
    "    plt.plot(x, y, 'ko', ms=1)\n"
   ]
  },
  {
   "cell_type": "code",
   "execution_count": null,
   "metadata": {},
   "outputs": [],
   "source": [
    "obs_df['datetime'] = pd.to_datetime(obs_df.datetime)\n",
    "obs_df = obs_df.sort_values(by='datetime')\n",
    "\n",
    "obs_df.head()"
   ]
  },
  {
   "cell_type": "code",
   "execution_count": null,
   "metadata": {},
   "outputs": [],
   "source": [
    "obs_df.tail()"
   ]
  },
  {
   "cell_type": "code",
   "execution_count": null,
   "metadata": {},
   "outputs": [],
   "source": [
    "# obs_df (df to read)\n",
    "sdate = obs_df.iloc[0]['datetime']\n",
    "delta = (obs_df.iloc[-1]['datetime'] - sdate)\n",
    "hours = ['00','06','12','18']\n",
    "\n",
    "dt = []\n",
    "\n",
    "def parse_metars(idx):\n",
    "    row = obs_df.iloc[idx]\n",
    "    if row['datetime'].hour == 0 || row['datetime'].hour == 6 || row['datetime'].hour == 12\n",
    "        || row['datetime'].hour == 18: \n",
    "        try:  \n",
    "            obs = Metar.Metar(row['observation']).string()\n",
    "\n",
    "            if ('temperature' in obs):\n",
    "                temp = float(re.findall(r\".*temperature:\\s(.*)[\\s]C\\s*\", obs)[0])\n",
    "                dt.append([row['datetime'].strftime(\"%Y-%m-%d %H:%M:%S\"), row['lat'], row['lng'], row['elev'], 'air', temp])\n",
    "\n",
    "            (u, v) = wind_comps(obs)\n",
    "            if (u, v) != (0,0):\n",
    "                dt.append([row['datetime'].strftime(\"%Y-%m-%d %H:%M:%S\"), row['lat'], row['lng'], row['elev'], 'uwnd', u])\n",
    "                dt.append([row['datetime'].strftime(\"%Y-%m-%d %H:%M:%S\"), row['lat'], row['lng'], row['elev'], 'vwnd', v])\n",
    "\n",
    "            # pA\n",
    "            if ('pressure' in obs):\n",
    "                press = parse_pressure(obs)\n",
    "                dt.append([row['datetime'].strftime(\"%Y-%m-%d %H:%M:%S\"), row['lat'], row['lng'], row['elev'], 'press', press])\n",
    "            \n",
    "            if ('dew point' in obs and 'temperature' in obs):\n",
    "                dew_point = float(re.findall(r\".*dew[\\s]point:\\s(.*)[\\s]C\\s*\", obs)[0])\n",
    "                rh = calculate_rh(dew_point, temp)\n",
    "                dt.append([row['datetime'].strftime(\"%Y-%m-%d %H:%M:%S\"), row['lat'], row['lng'], row['elev'], 'rhum', rh])\n",
    "            \n",
    "        except Exception as e:\n",
    "            str_err = str(e)\n",
    "            if 'Unparsed groups' not in str_err and '_handleTime' not in str_err and '_handleWind' not in str_err and \"NSW\" not in str_err:\n",
    "                print('index:', idx, 'error:', e)"
   ]
  },
  {
   "cell_type": "code",
   "execution_count": null,
   "metadata": {},
   "outputs": [],
   "source": [
    "jobs = multiprocessing.cpu_count()\n",
    "with multiprocessing.Pool(jobs - 1) as p:\n",
    "    data = p.map(parse_metars, range(len(obs_df)))"
   ]
  },
  {
   "cell_type": "code",
   "execution_count": null,
   "metadata": {},
   "outputs": [],
   "source": []
  },
  {
   "cell_type": "code",
   "execution_count": null,
   "metadata": {},
   "outputs": [],
   "source": []
  }
 ],
 "metadata": {
  "kernelspec": {
   "display_name": "Python 3",
   "language": "python",
   "name": "python3"
  },
  "language_info": {
   "codemirror_mode": {
    "name": "ipython",
    "version": 3
   },
   "file_extension": ".py",
   "mimetype": "text/x-python",
   "name": "python",
   "nbconvert_exporter": "python",
   "pygments_lexer": "ipython3",
   "version": "3.6.8"
  }
 },
 "nbformat": 4,
 "nbformat_minor": 4
}
