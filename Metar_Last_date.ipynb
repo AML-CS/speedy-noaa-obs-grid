{
 "cells": [
  {
   "cell_type": "code",
   "execution_count": 1,
   "metadata": {
    "colab": {
     "base_uri": "https://localhost:8080/",
     "height": 1000
    },
    "id": "ns_wOy_caDB2",
    "outputId": "45c5c7ac-6eb8-4d9d-da05-b0f277513c97"
   },
   "outputs": [
    {
     "name": "stdout",
     "output_type": "stream",
     "text": [
      "Requirement already satisfied: pyproj==1.9.6 in /home/syseng/omejiaa/.local/lib/python3.6/site-packages\n",
      "/bin/bash: apt-get: command not found\n",
      "/bin/bash: apt-get: command not found\n",
      "Collecting https://github.com/matplotlib/basemap/archive/master.zip\n",
      "  Using cached https://github.com/matplotlib/basemap/archive/master.zip\n",
      "  Requirement already satisfied (use --upgrade to upgrade): basemap==1.2.1 from https://github.com/matplotlib/basemap/archive/master.zip in /home/syseng/omejiaa/.local/lib/python3.6/site-packages\n",
      "Requirement already satisfied: matplotlib!=3.0.1,>=1.0.0 in /home/syseng/omejiaa/.local/lib/python3.6/site-packages (from basemap==1.2.1)\n",
      "Requirement already satisfied: numpy>=1.2.1 in /home/syseng/omejiaa/.local/lib/python3.6/site-packages (from basemap==1.2.1)\n",
      "Requirement already satisfied: pyproj>=1.9.3 in /home/syseng/omejiaa/.local/lib/python3.6/site-packages (from basemap==1.2.1)\n",
      "Requirement already satisfied: pyshp>=1.2.0 in /home/syseng/omejiaa/.local/lib/python3.6/site-packages (from basemap==1.2.1)\n",
      "Requirement already satisfied: six in /home/syseng/omejiaa/.local/lib/python3.6/site-packages (from basemap==1.2.1)\n",
      "Requirement already satisfied: pillow>=6.2.0 in /home/syseng/omejiaa/.local/lib/python3.6/site-packages (from matplotlib!=3.0.1,>=1.0.0->basemap==1.2.1)\n",
      "Requirement already satisfied: kiwisolver>=1.0.1 in /home/syseng/omejiaa/.local/lib/python3.6/site-packages (from matplotlib!=3.0.1,>=1.0.0->basemap==1.2.1)\n",
      "Requirement already satisfied: cycler>=0.10 in /home/syseng/omejiaa/.local/lib/python3.6/site-packages (from matplotlib!=3.0.1,>=1.0.0->basemap==1.2.1)\n",
      "Requirement already satisfied: pyparsing!=2.0.4,!=2.1.2,!=2.1.6,>=2.0.3 in /home/syseng/omejiaa/.local/lib/python3.6/site-packages (from matplotlib!=3.0.1,>=1.0.0->basemap==1.2.1)\n",
      "Requirement already satisfied: python-dateutil>=2.1 in /home/syseng/omejiaa/.local/lib/python3.6/site-packages (from matplotlib!=3.0.1,>=1.0.0->basemap==1.2.1)\n",
      "Requirement already satisfied: certifi>=2020.06.20 in /home/syseng/omejiaa/.local/lib/python3.6/site-packages (from matplotlib!=3.0.1,>=1.0.0->basemap==1.2.1)\n",
      "Requirement already satisfied: metar in /home/syseng/omejiaa/.local/lib/python3.6/site-packages\n"
     ]
    }
   ],
   "source": [
    "!pip3 install -q -U tqdm --user\n",
    "!pip3 install pyproj==1.9.6 --user\n",
    "!apt-get install libgeos-3.5.0 --user\n",
    "!apt-get install libgeos-dev --user\n",
    "!pip3 install https://github.com/matplotlib/basemap/archive/master.zip --user\n",
    "!pip3 install metar --user"
   ]
  },
  {
   "cell_type": "code",
   "execution_count": 1,
   "metadata": {
    "id": "Exf_xTL7abpc"
   },
   "outputs": [],
   "source": [
    "import re\n",
    "import multiprocessing\n",
    "from urllib.request import urlopen\n",
    "from bs4 import BeautifulSoup\n",
    "from tqdm.notebook import tqdm\n",
    "import math\n",
    "import pandas as pd\n",
    "from mpl_toolkits.basemap import Basemap\n",
    "import matplotlib.pyplot as plt\n",
    "from datetime import date\n",
    "import numpy as np\n",
    "from metar import Metar"
   ]
  },
  {
   "cell_type": "code",
   "execution_count": 2,
   "metadata": {
    "id": "mgjyctYKa6Fz"
   },
   "outputs": [],
   "source": [
    "stations='AGGH\tAGGL\tAGGM\tAYPY\tBGBW\tBGGH\tBGJH\tBGJN\tBGKK\tBGSF\tBGTL\tBIAR\tBIEG\tBIGR\tBIHN\tBIKF\tBIRK\tBIVM\tCWAE\tCWAF\tCWAJ\tCWAQ\tCWAV\tCWBA\tCWBE\tCWBK\tCWBO\tCWBT\tCWBV\tCWBY\tCWBZ\tCWCF\tCWCI\tCWCJ\tCWCO\tCWCT\tCWDA\tCWDC\tCWDJ\tCWDK\tCWDM\tCWDO\tCWDQ\tCWDT\tCWDV\tCWDZ\tCWEB\tCWEE\tCWEF\tCWEH\tCWEK\tCWEL\tCWEP\tCWEQ\tCWER\tCWEU\tCWEW\tCWEZ\tCWFD\tCWFF\tCWFJ\tCWFQ\tCWGB\tCWGD\tCWGH\tCWGL\tCWGM\tCWGR\tCWGT\tCWGW\tCWGX\tCWGY\tCWGZ\tCWHI\tCWHL\tCWHN\tCWHO\tCWHP\tCWHQ\tCWHT\tCWHV\tCWID\tCWIG\tCWII\tCWIJ\tCWIK\tCWIL\tCWIP\tCWIS\tCWIT\tCWIW\tCWIX\tCWIZ\tCWJB\tCWJC\tCWJD\tCWJH\tCWJI\tCWJO\tCWJR\tCWJT\tCWJU\tCWJV\tCWJW\tCWJX\tCWKD\tCWKG\tCWKH\tCWKK\tCWKO\tCWKX\tCWLB\tCWLC\tCWLE\tCWLI\tCWLM\tCWLP\tCWLS\tCWLY\tCWME\tCWMJ\tCWMM\tCWMQ\tCWMT\tCWMZ\tCWNC\tCWND\tCWNE\tCWNH\tCWNK\tCWNL\tCWNM\tCWNP\tCWNQ\tCWNZ\tCWOB\tCWOC\tCWOD\tCWOE\tCWOY\tCWPC\tCWPD\tCWPE\tCWPF\tCWPK\tCWPO\tCWPR\tCWPS\tCWPX\tCWPZ\tCWQH\tCWQK\tCWQP\tCWQR\tCWQS\tCWQV\tCWRA\tCWRJ\tCWRK\tCWRM\tCWRN\tCWRO\tCWRT\tCWRU\tCWRX\tCWRY\tCWRZ\tCWSA\tCWSD\tCWSF\tCWSG\tCWSK\tCWSL\tCWSP\tCWSR\tCWSS\tCWST\tCWSW\tCWTA\tCWTG\tCWTN\tCWTY\tCWUS\tCWUW\tCWUX\tCWVF\tCWVI\tCWVN\tCWVP\tCWVQ\tCWVT\tCWVU\tCWWA\tCWWB\tCWWE\tCWWF\tCWWK\tCWWL\tCWWS\tCWWU\tCWWX\tCWWZ\tCWXA\tCWXC\tCWXI\tCWXL\tCWYJ\tCWYL\tCWYY\tCWZA\tCWZG\tCWZL\tCWZN\tCWZO\tCWZQ\tCWZV\tCWZW\tCWZZ\tCXBK\tCXBO\tCXCK\tCXDE\tCXDI\tCXDW\tCXEC\tCXEG\tCXGH\tCXHF\tCXKT\tCXLC\tCXLL\tCXMD\tCXMI\tCXMM\tCXMY\tCXNM\tCXOX\tCXRH\tCXSH\tCXTN\tCXTP\tCXTV\tCXWN\tCYAH\tCYAM\tCYAS\tCYAW\tCYAY\tCYAZ\tCYBB\tCYBC\tCYBD\tCYBG\tCYBK\tCYBL\tCYBN\tCYBR\tCYBU\tCYBV\tCYBW\tCYBX\tCYCA\tCYCB\tCYCD\tCYCG\tCYCO\tCYCP\tCYCQ\tCYCS\tCYCX\tCYCY\tCYDA\tCYDB\tCYDC\tCYDF\tCYDN\tCYDP\tCYDQ\tCYED\tCYEG\tCYEK\tCYEN\tCYET\tCYEV\tCYFB\tCYFC\tCYFO\tCYFR\tCYFS\tCYFT\tCYGE\tCYGH\tCYGK\tCYGL\tCYGP\tCYGQ\tCYGR\tCYGT\tCYGV\tCYGW\tCYGX\tCYHA\tCYHD\tCYHE\tCYHI\tCYHK\tCYHM\tCYHU\tCYHY\tCYHZ\tCYIK\tCYIO\tCYIV\tCYJF\tCYJT\tCYKA\tCYKD\tCYKF\tCYKG\tCYKJ\tCYKL\tCYKO\tCYKQ\tCYKY\tCYLA\tCYLC\tCYLD\tCYLJ\tCYLK\tCYLL\tCYLT\tCYLU\tCYLW\tCYMA\tCYMH\tCYMJ\tCYMM\tCYMO\tCYMT\tCYMU\tCYMX\tCYNA\tCYNC\tCYND\tCYNE\tCYNM\tCYOA\tCYOC\tCYOD\tCYOJ\tCYOW\tCYOY\tCYPA\tCYPC\tCYPD\tCYPE\tCYPG\tCYPH\tCYPL\tCYPQ\tCYPR\tCYPW\tCYPX\tCYPY\tCYQA\tCYQB\tCYQD\tCYQF\tCYQG\tCYQH\tCYQI\tCYQK\tCYQL\tCYQM\tCYQQ\tCYQR\tCYQT\tCYQU\tCYQV\tCYQW\tCYQX\tCYQY\tCYQZ\tCYRB\tCYRJ\tCYRL\tCYRT\tCYRV\tCYSB\tCYSC\tCYSD\tCYSF\tCYSJ\tCYSK\tCYSM\tCYSN\tCYSY\tCYTE\tCYTH\tCYTL\tCYTQ\tCYTR\tCYTS\tCYTZ\tCYUA\tCYUB\tCYUL\tCYUS\tCYUT\tCYUX\tCYUY\tCYVC\tCYVM\tCYVO\tCYVP\tCYVQ\tCYVR\tCYVT\tCYVV\tCYWA\tCYWG\tCYWH\tCYWJ\tCYWK\tCYWL\tCYWY\tCYXC\tCYXE\tCYXH\tCYXJ\tCYXL\tCYXN\tCYXP\tCYXQ\tCYXR\tCYXS\tCYXT\tCYXU\tCYXX\tCYXY\tCYXZ\tCYYB\tCYYC\tCYYD\tCYYE\tCYYF\tCYYG\tCYYH\tCYYJ\tCYYL\tCYYN\tCYYQ\tCYYR\tCYYT\tCYYU\tCYYW\tCYYY\tCYYZ\tCYZE\tCYZF\tCYZG\tCYZH\tCYZP\tCYZR\tCYZS\tCYZT\tCYZU\tCYZV\tCYZW\tCYZX\tCYZY\tCZBF\tCZCP\tCZEM\tCZFA\tCZFM\tCZFN\tCZPC\tCZST\tCZUM\tCZVL\tDAAD\tDAAE\tDAAG\tDAAJ\tDAAP\tDAAS\tDAAT\tDAAV\tDAAY\tDABB\tDABC\tDABS\tDABT\tDAFH\tDAOB\tDAOF\tDAOI\tDAOL\tDAON\tDAOO\tDAOR\tDAOV\tDATM\tDAUA\tDAUB\tDAUE\tDAUG\tDAUH\tDAUI\tDAUK\tDAUL\tDAUO\tDAUT\tDAUU\tDAUZ\tDBBB\tDFFD\tDFOO\tDGAA\tDGLE\tDGSI\tDGTK\tDIAD\tDIAP\tDIBK\tDIKO\tDISP\tDIYO\tDNCA\tDNEN\tDNIB\tDNIL\tDNJO\tDNKA\tDNKN\tDNMA\tDNMK\tDNMM\tDNPO\tDNSO\tDNYO\tDRRB\tDRRM\tDRRN\tDRRT\tDRZA\tDRZR\tDTKA\tDTMB\tDTTA\tDTTB\tDTTD\tDTTF\tDTTG\tDTTJ\tDTTK\tDTTL\tDTTN\tDTTR\tDTTX\tDTTZ\tDXNG\tDXSK\tDXXX\tEBAW\tEBBE\tEBBL\tEBBR\tEBCI\tEBCV\tEBDT\tEBFN\tEBFS\tEBLB\tEBLG\tEBOS\tEDAC\tEDAH\tEDDB\tEDDC\tEDDE\tEDDF\tEDDG\tEDDH\tEDDK\tEDDL\tEDDM\tEDDN\tEDDP\tEDDR\tEDDS\tEDDT\tEDDV\tEDDW\tEDFH\tEDFM\tEDGS\tEDHI\tEDHK\tEDHL\tEDLN\tEDLP\tEDLV\tEDLW\tEDMA\tEDMO\tEDNY\tEDQM\tEDSB\tEDTL\tEDVE\tEDVK\tEDXW\tEEKA\tEEKE\tEEPU\tEETN\tEETU\tEFET\tEFHA\tEFHK\tEFIV\tEFJO\tEFJY\tEFKE\tEFKI\tEFKK\tEFKS\tEFKT\tEFKU\tEFLP\tEFMA\tEFMI\tEFOU\tEFPO\tEFRO\tEFSA\tEFSI\tEFTP\tEFTU\tEFUT\tEFVA\tEGAA\tEGAC\tEGAE\tEGBB\tEGBJ\tEGCC\tEGDM\tEGDR\tEGDY\tEGEC\tEGFF\tEGGD\tEGGP\tEGGW\tEGHE\tEGHH\tEGHI\tEGJA\tEGJB\tEGJJ\tEGKA\tEGKB\tEGKK\tEGLC\tEGLF\tEGLL\tEGMC\tEGMD\tEGNC\tEGNH\tEGNJ\tEGNM\tEGNR\tEGNS\tEGNT\tEGNV\tEGNX\tEGOM\tEGOP\tEGOS\tEGOV\tEGOW\tEGPA\tEGPB\tEGPC\tEGPD\tEGPE\tEGPF\tEGPH\tEGPI\tEGPK\tEGPL\tEGPM\tEGPN\tEGPO\tEGPU\tEGQA\tEGQK\tEGQL\tEGQM\tEGQS\tEGSC\tEGSH\tEGSS\tEGSY\tEGTC\tEGTE\tEGUB\tEGUL\tEGUN\tEGUW\tEGVA\tEGVN\tEGVO\tEGVP\tEGWC\tEGWU\tEGXC\tEGXE\tEGXP\tEGXT\tEGXU\tEGXV\tEGXW\tEGXZ\tEGYD\tEGYE\tEGYH\tEGYM\tEGYP\tEHAM\tEHBK\tEHDL\tEHEH\tEHGG\tEHGR\tEHKD\tEHLE\tEHLW\tEHRD\tEHVK\tEHVL\tEHWO\tEICK\tEIDW\tEIKN\tEIME\tEINN\tEKAH\tEKBI\tEKCH\tEKEB\tEKKA\tEKOD\tEKRK\tEKRN\tEKSB\tEKSN\tEKSP\tEKVD\tEKVG\tEKVJ\tEKYT\tELLX\tENAL\tENAN\tENAT\tENBL\tENBN\tENBO\tENBR\tENBS\tENBV\tENCN\tENDR\tENDU\tENEV\tENFB\tENFL\tENGC\tENGM\tENHD\tENHE\tENHF\tENHK\tENHV\tENKB\tENKR\tENLK\tENMH\tENML\tENMS\tENNA\tENNM\tENNO\tENOA\tENOL\tENOV\tENRA\tENRM\tENRO\tENRS\tENRY\tENSB\tENSD\tENSG\tENSH\tENSK\tENSO\tENSR\tENSS\tENST\tENTC\tENTO\tENVA\tENVD\tENZV\tEPGD\tEPKK\tEPKT\tEPPO\tEPRZ\tEPSC\tEPWA\tEPWR\tEPZG\tEQYG\tESCF\tESCM\tESDF\tESGG\tESGJ\tESGR\tESGT\tESIB\tESKM\tESKN\tESMK\tESMQ\tESMS\tESMT\tESMX\tESNG\tESNK\tESNL\tESNN\tESNO\tESNQ\tESNS\tESNU\tESOE\tESOK\tESOW\tESPA\tESPE\tESSA\tESSB\tESSD\tESSF\tESSL\tESSP\tESSV\tESTL\tETAD\tETAR\tETEB\tETGG\tETHA\tETHB\tETHC\tETHF\tETHL\tETHN\tETHS\tETIC\tETIH\tETIK\tETMN\tETND\tETNG\tETNH\tETNL\tETNN\tETNS\tETNT\tETNW\tETOU\tETSB\tETSH\tETSI\tETSL\tETSN\tETWM\tEVLA\tEVRA\tEYKA\tEYPA\tEYSA\tEYVI\tFABL\tFABM\tFACT\tFACV\tFADY\tFAEL\tFAEO\tFAGG\tFAGM\tFAHS\tFAIR\tFAKM\tFALA\tFALW\tFAMM\tFANC\tFAOB\tFAPE\tFASB\tFASI\tFAUP\tFAUT\tFAVV\tFAWB\tFAWK\tFBFT\tFBKE\tFBMN\tFBSK\tFBSP\tFCBB\tFCOI\tFCPP\tFDMS\tFEFF\tFEFO\tFEFT\tFGSL\tFHAW\tFIMP\tFIMR\tFJDG\tFKKD\tFKKN\tFKKR\tFKYS\tFLMF\tFLND\tFMCH\tFMCV\tFMCZ\tFMEE\tFMEP\tFMMI\tFMMS\tFMMT\tFMNA\tFMNM\tFMNN\tFMSD\tFNBG\tFNCA\tFNHU\tFNKU\tFNLU\tFOGM\tFOGR\tFOOB\tFOOG\tFOOK\tFOOL\tFOON\tFOOR\tFOOT\tFPST\tFQBR\tFQCH\tFQIN\tFQLC\tFQMA\tFQNP\tFQPB\tFQQL\tFQTE\tFQTT\tFQVL\tFSIA\tFTTA\tFTTC\tFTTD\tFTTJ\tFTTY\tFVCZ\tFVFA\tFVKB\tFVMV\tFVWN\tFWCL\tFWKI\tFXMM\tFYGF\tFYKM\tFYKT\tFYLZ\tFYOA\tFYRU\tFYWB\tFYWH\tFYWW\tFZAA\tFZNA\tFZQA\tFZRF\tFZWA\tGABG\tGABS\tGAKO\tGAKT\tGAMB\tGANK\tGANR\tGASK\tGASN\tGATB\tGBYD\tGCFV\tGCHI\tGCLA\tGCLP\tGCRR\tGCTS\tGCXO\tGEML\tGFLL\tGGOV\tGLRB\tGMAA\tGMAD\tGMAT\tGMFF\tGMFK\tGMFM\tGMFO\tGMMC\tGMME\tGMMI\tGMML\tGMMN\tGMMW\tGMMX\tGMMZ\tGMTA\tGMTN\tGMTT\tGOGG\tGOGK\tGOGS\tGOOD\tGOOG\tGOOK\tGOOY\tGOSM\tGOSP\tGOSS\tGOTK\tGOTT\tGQNI\tGQPA\tGQPP\tGUCY\tGULB\tGUNZ\tGVAC\tHAAB\tHABD\tHADR\tHAJJ\tHAMK\tHBBA\tHCMH\tHCMM\tHDAM\tHEAR\tHEAT\tHEAX\tHEBA\tHECA\tHEGN\tHELX\tHEMM\tHEPS\tHESH\tHESN\tHETB\tHETR\tHKEL\tHKJK\tHKKI\tHKML\tHKMO\tHKNW\tHKWJ\tHRYR\tHSDN\tHSOB\tHSPN\tHSSJ\tHSSS\tHTAR\tHTBU\tHTDA\tHTDO\tHTIR\tHTKA\tHTKI\tHTKJ\tHTMG\tHTMS\tHTMT\tHTMU\tHTMW\tHTPE\tHTSE\tHTSO\tHTSY\tHTTB\tHTTG\tHTZA\tHUEN\tHUJI\tHUKB\tHUKS\tHUMA\tHUMI\tHUSO\tHUTO\tK0J4\tK0VG\tK04V\tK06D\tK08D\tK1A5\tK1A6\tK1F0\tK1H2\tK1J0\tK1M4\tK1P1\tK1V4\tK2C8\tK2D5\tK2DP\tK2WX\tK3I2\tK3J7\tK3LF\tK3T5\tK4A9\tK4BM\tK4MR\tK4O4\tK5H4\tK5SM\tK6R6\tK7BM\tK7L2\tK8A0\tK8D3\tK9D7\tK9L2\tK9V9\tK11R\tK12N\tK14Y\tK20U\tK20V\tK21D\tK40B\tK40J\tK46D\tK79J\tK96D\tKAAA\tKAAF\tKAAO\tKAAT\tKABI\tKABR\tKABY\tKACB\tKACK\tKACP\tKACQ\tKACT\tKACV\tKACY\tKADC\tKADG\tKADH\tKADM\tKADS\tKADU\tKADW\tKAEG\tKAEJ\tKAEL\tKAEX\tKAFF\tKAFJ\tKAFK\tKAFN\tKAFP\tKAFW\tKAGC\tKAGR\tKAGS\tKAHN\tKAIA\tKAID\tKAIG\tKAIO\tKAIT\tKAIZ\tKAJG\tKAKH\tKAKO\tKAKQ\tKAKR\tKALB\tKALI\tKALM\tKALN\tKALO\tKALS\tKALW\tKALX\tKAMG\tKAMN\tKAMW\tKANB\tKAND\tKANE\tKANJ\tKANW\tKAOH\tKAOO\tKAPA\tKAPC\tKAPF\tKAPG\tKAPN\tKAQO\tKAQP\tKAQR\tKAQV\tKAQW\tKARA\tKARB\tKARG\tKARM\tKARR\tKARV\tKASD\tKASE\tKASG\tKASH\tKASJ\tKAST\tKASW\tKASX\tKATL\tKATP\tKATS\tKATT\tKATW\tKATY\tKAUG\tKAUH\tKAUM\tKAUN\tKAUO\tKAUW\tKAVC\tKAVK\tKAVL\tKAVP\tKAVX\tKAWG\tKAWM\tKAWO\tKAXA\tKAXN\tKAXS\tKAYS\tKAZC\tKAZO\tKBAB\tKBAC\tKBAD\tKBAF\tKBAK\tKBAX\tKBAZ\tKBBB\tKBBD\tKBBF\tKBBW\tKBCB\tKBCE\tKBCT\tKBDE\tKBDL\tKBDR\tKBED\tKBEH\tKBFD\tKBFF\tKBFI\tKBFL\tKBFM\tKBFW\tKBGD\tKBGE\tKBGM\tKBGR\tKBHB\tKBHK\tKBHM\tKBID\tKBIE\tKBIF\tKBIH\tKBIL\tKBIS\tKBIV\tKBIX\tKBJC\tKBJI\tKBJJ\tKBKB\tKBKE\tKBKF\tKBKL\tKBKS\tKBKT\tKBKV\tKBKW\tKBKX\tKBLF\tKBLH\tKBLM\tKBLU\tKBLV\tKBMG\tKBMI\tKBML\tKBMQ\tKBNO\tKBNW\tKBOI\tKBOK\tKBOS\tKBOW\tKBPG\tKBPI\tKBPK\tKBPT\tKBQK\tKBQX\tKBRD\tKBRL\tKBRO\tKBTL\tKBTM\tKBTP\tKBTR\tKBTV\tKBUR\tKBUU\tKBUY\tKBVI\tKBVN\tKBVO\tKBVS\tKBVX\tKBVY\tKBWD\tKBWG\tKBWI\tKBWP\tKBXA\tKBYG\tKBYH\tKBYI\tKBYS\tKBYY\tKBZN\tKC09\tKC75\tKCAD\tKCAE\tKCAG\tKCAK\tKCAO\tKCAR\tKCAV\tKCBE\tKCBF\tKCBG\tKCBM\tKCCO\tKCCR\tKCCU\tKCCY\tKCDC\tKCDD\tKCDH\tKCDJ\tKCDR\tKCDS\tKCDW\tKCEC\tKCEF\tKCEU\tKCEW\tKCEZ\tKCFE\tKCFS\tKCFV\tKCGF\tKCGI\tKCGZ\tKCHA\tKCHD\tKCHK\tKCHO\tKCHS\tKCIC\tKCID\tKCIN\tKCIR\tKCIU\tKCJR\tKCKB\tKCKC\tKCKN\tKCKP\tKCKV\tKCLE\tKCLI\tKCLK\tKCLL\tKCLM\tKCLT\tKCMA\tKCMI\tKCMX\tKCMY\tKCNB\tKCNC\tKCNK\tKCNM\tKCNO\tKCNU\tKCNY\tKCOD\tKCOE\tKCOF\tKCON\tKCOQ\tKCOS\tKCOT\tKCOU\tKCPC\tKCPK\tKCPS\tKCPT\tKCPW\tKCQB\tKCQC\tKCQM\tKCQT\tKCQX\tKCRE\tKCRG\tKCRP\tKCRQ\tKCRS\tKCRW\tKCSG\tKCSM\tKCSQ\tKCSV\tKCTB\tKCTY\tKCTZ\tKCUB\tKCUH\tKCUL\tKCUT\tKCVG\tKCVN\tKCVO\tKCVS\tKCVX\tKCWA\tKCWF\tKCWI\tKCXO\tKCXP\tKCXY\tKCYS\tKCZZ\tKD07\tKD50\tKD55\tKD60\tKDAA\tKDAB\tKDAG\tKDAL\tKDAN\tKDAW\tKDAY\tKDBN\tKDBQ\tKDCA\tKDCU\tKDDC\tKDDH\tKDEC\tKDEH\tKDEN\tKDEQ\tKDET\tKDEW\tKDFI\tKDGW\tKDHN\tKDHT\tKDIK\tKDKB\tKDKK\tKDKR\tKDKX\tKDLF\tKDLH\tKDLL\tKDLN\tKDLP\tKDLS\tKDMA\tKDMH\tKDMN\tKDMO\tKDNL\tKDNN\tKDNS\tKDNV\tKDOV\tKDPA\tKDPG\tKDPL\tKDQH\tKDRA\tKDRI\tKDRO\tKDSM\tKDSV\tKDTL\tKDTN\tKDTO\tKDTS\tKDTW\tKDUA\tKDUC\tKDUH\tKDUJ\tKDUX\tKDVL\tKDVN\tKDVP\tKDVT\tKDWH\tKDXR\tKDXX\tKDYL\tKDYR\tKDYS\tKDYT\tKE38\tKEAR\tKEAT\tKEAU\tKEBG\tKEBS\tKECG\tKECP\tKECU\tKEDE\tKEDW\tKEED\tKEEN\tKEEO\tKEET\tKEFD\tKEFT\tKEGE\tKEGI\tKEGV\tKEHA\tKEHO\tKEHR\tKEHY\tKEIR\tKEKA\tKEKM\tKEKN\tKEKO\tKEKQ\tKELD\tKELM\tKELN\tKELO\tKELP\tKELY\tKELZ\tKEMK\tKEMP\tKEMT\tKEMV\tKEND\tKENL\tKENV\tKENW\tKEOK\tKEPH\tKEQY\tKERI\tKERV\tKERY\tKESC\tKESF\tKESN\tKEST\tKETB\tKETH\tKEUG\tKEUL\tKEVB\tKEVM\tKEVV\tKEVW\tKEWB\tKEWK\tKEWN\tKEXX\tKEYE\tKEYF\tKEYW\tKEZF\tKEZM\tKF05\tKFAF\tKFAM\tKFAR\tKFAT\tKFAY\tKFBG\tKFBL\tKFCH\tKFCM\tKFCS\tKFDK\tKFDR\tKFDY\tKFEP\tKFET\tKFFA\tKFFC\tKFFL\tKFFM\tKFFO\tKFFT\tKFFZ\tKFGN\tKFHR\tKFHU\tKFIG\tKFIT\tKFKA\tKFKL\tKFKN\tKFKS\tKFLD\tKFLG\tKFLL\tKFLO\tKFLP\tKFME\tKFMH\tKFMN\tKFMY\tKFNB\tKFNL\tKFOA\tKFOD\tKFOE\tKFOK\tKFOZ\tKFPK\tKFPR\tKFQD\tKFRG\tKFRI\tKFRM\tKFSD\tKFSE\tKFSI\tKFSM\tKFST\tKFSW\tKFTG\tKFTK\tKFTW\tKFTY\tKFUL\tKFVE\tKFVX\tKFWA\tKFWC\tKFWN\tKFWS\tKFXE\tKFYJ\tKFYV\tKFZY\tKGAD\tKGAF\tKGAG\tKGAO\tKGBD\tKGBG\tKGBK\tKGCC\tKGCK\tKGCM\tKGCN\tKGDB\tKGDJ\tKGDP\tKGDV\tKGED\tKGEG\tKGEU\tKGEV\tKGEY\tKGEZ\tKGFA\tKGFK\tKGFL\tKGGG\tKGGW\tKGHB\tKGHW\tKGIF\tKGJT\tKGKJ\tKGKY\tKGLD\tKGLE\tKGLH\tKGLR\tKGLS\tKGLW\tKGMJ\tKGMU\tKGNA\tKGNC\tKGNR\tKGNT\tKGNV\tKGOK\tKGON\tKGOP\tKGOV\tKGPM\tKGPT\tKGPZ\tKGRD\tKGRF\tKGRI\tKGRK\tKGRN\tKGRR\tKGRY\tKGSB\tKGSH\tKGSP\tKGTB\tKGTF\tKGTR\tKGTU\tKGUC\tKGUL\tKGUP\tKGUS\tKGUY\tKGVL\tKGVT\tKGWO\tKGWR\tKGWW\tKGXY\tKGYB\tKGYI\tKGYL\tKGYR\tKGYY\tKGZH\tKHAO\tKHBG\tKHBI\tKHBR\tKHBV\tKHCD\tKHCO\tKHDC\tKHDE\tKHDN\tKHDO\tKHEF\tKHEI\tKHEY\tKHEZ\tKHFD\tKHFF\tKHGR\tKHHF\tKHHR\tKHHV\tKHIB\tKHIE\tKHIF\tKHIO\tKHJH\tKHJO\tKHKA\tKHKS\tKHKY\tKHLC\tKHLG\tKHLN\tKHLR\tKHLX\tKHMN\tKHMZ\tKHNB\tKHND\tKHNR\tKHNZ\tKHOB\tKHON\tKHOP\tKHOT\tKHOU\tKHPN\tKHQI\tKHQM\tKHQU\tKHQZ\tKHRI\tKHRJ\tKHRL\tKHRO\tKHRT\tKHSA\tKHSB\tKHSE\tKHSI\tKHSP\tKHST\tKHTH\tKHTL\tKHTO\tKHTS\tKHUF\tKHUL\tKHUM\tKHUT\tKHVN\tKHVR\tKHWD\tKHWO\tKHWV\tKHXD\tKHYA\tKHYI\tKHYR\tKHYS\tKHYX\tKHZE\tKHZX\tKHZY\tKI16\tKI63\tKIAB\tKIAD\tKIAH\tKIBM\tKICL\tKICR\tKICT\tKIDA\tKIDI\tKIEN\tKIER\tKIFP\tKIGM\tKIGQ\tKIIB\tKIIY\tKIJD\tKIJX\tKIKK\tKIKT\tKIKV\tKILE\tKILG\tKILM\tKILN\tKIML\tKIMT\tKINJ\tKINK\tKINL\tKINS\tKINT\tKINW\tKIOW\tKIPJ\tKIPL\tKIPT\tKIRK\tKIRS\tKISM\tKISO\tKISP\tKISQ\tKISW\tKITH\tKITR\tKIWA\tKIWD\tKIWI\tKIXD\tKIZA\tKIZG\tKJAC\tKJAN\tKJAS\tKJAX\tKJBR\tKJCT\tKJDD\tKJDN\tKJEF\tKJER\tKJES\tKJFK\tKJGG\tKJHW\tKJKJ\tKJKL\tKJLN\tKJMR\tKJMS\tKJNX\tKJOT\tKJQF\tKJSO\tKJST\tKJSV\tKJVL\tKJWG\tKJWY\tKJXI\tKJXN\tKJYG\tKJYL\tKJYM\tKJYO\tKJYR\tKKLS\tKLAA\tKLAF\tKLAL\tKLAM\tKLAN\tKLAR\tKLAS\tKLAW\tKLAX\tKLBB\tKLBE\tKLBF\tKLBL\tKLBX\tKLCG\tKLCH\tKLCI\tKLCK\tKLDM\tKLEB\tKLEE\tKLEW\tKLEX\tKLFI\tKLFK\tKLFT\tKLGA\tKLGB\tKLGC\tKLGD\tKLGU\tKLHB\tKLHQ\tKLHW\tKLHX\tKLHZ\tKLIC\tKLIT\tKLJF\tKLKU\tKLKV\tKLLJ\tKLLQ\tKLNC\tKLND\tKLNK\tKLNL\tKLNN\tKLNP\tKLNR\tKLNS\tKLOL\tKLOM\tKLOR\tKLOT\tKLOU\tKLOZ\tKLPC\tKLPR\tKLRD\tKLRF\tKLRJ\tKLRU\tKLSE\tKLSF\tKLSV\tKLTS\tKLUD\tKLUF\tKLUK\tKLUM\tKLVJ\tKLVK\tKLVM\tKLVN\tKLVS\tKLWA\tKLWB\tKLWC\tKLWD\tKLWM\tKLWS\tKLWT\tKLWV\tKLXL\tKLXN\tKLXT\tKLXV\tKLYH\tKLYV\tKLZU\tKLZZ\tKM19\tKM30\tKMAE\tKMAF\tKMAI\tKMAN\tKMBG\tKMBL\tKMBS\tKMCB\tKMCC\tKMCD\tKMCE\tKMCF\tKMCK\tKMCN\tKMCO\tKMCW\tKMDD\tKMDH\tKMDJ\tKMDQ\tKMDW\tKMDZ\tKMEB\tKMEH\tKMEI\tKMEM\tKMER\tKMEZ\tKMFD\tKMFI\tKMFV\tKMGE\tKMGG\tKMGJ\tKMGM\tKMGN\tKMGR\tKMGW\tKMGY\tKMHE\tKMHK\tKMHR\tKMHS\tKMHT\tKMHV\tKMIA\tKMIB\tKMIC\tKMIE\tKMIS\tKMIV\tKMIW\tKMJQ\tKMKC\tKMKG\tKMKJ\tKMKL\tKMKN\tKMKO\tKMKT\tKMLB\tKMLC\tKMLE\tKMLF\tKMLI\tKMLJ\tKMLP\tKMLS\tKMLT\tKMLU\tKMMH\tKMMK\tKMML\tKMMT\tKMMU\tKMMV\tKMNH\tKMNI\tKMNM\tKMNN\tKMOB\tKMOD\tKMOP\tKMOT\tKMOX\tKMPO\tKMPV\tKMPZ\tKMQB\tKMQE\tKMQI\tKMQY\tKMRB\tKMRC\tKMRF\tKMRH\tKMRJ\tKMRN\tKMRY\tKMSL\tKMSN\tKMSO\tKMSP\tKMSS\tKMSV\tKMTC\tKMTH\tKMTJ\tKMTN\tKMTO\tKMTP\tKMTV\tKMTW\tKMUI\tKMUO\tKMUT\tKMVE\tKMVL\tKMVN\tKMVY\tKMWA\tKMWC\tKMWH\tKMWK\tKMWL\tKMWM\tKMWN\tKMWT\tKMXF\tKMXO\tKMYF\tKMYL\tKMYP\tKMYR\tKMYV\tKMZG\tKMZH\tKN60\tKNAK\tKNBC\tKNBG\tKNBT\tKNCA\tKNDZ\tKNEL\tKNEW\tKNFE\tKNFG\tKNFL\tKNFW\tKNGP\tKNGU\tKNHK\tKNID\tKNIP\tKNJK\tKNJM\tKNJW\tKNKT\tKNKX\tKNLC\tKNMM\tKNOG\tKNOW\tKNPA\tKNQA\tKNQI\tKNQX\tKNRB\tKNRS\tKNSE\tKNSI\tKNTD\tKNTU\tKNUC\tKNUI\tKNUQ\tKNUW\tKNXP\tKNYC\tKNYG\tKNYL\tKNZY\tKO54\tKOAJ\tKOBE\tKOCF\tKOCH\tKOCW\tKODO\tKODX\tKOEB\tKOEO\tKOFF\tKOFK\tKOFP\tKOGA\tKOGB\tKOGD\tKOGS\tKOJA\tKOJC\tKOKB\tKOKC\tKOKK\tKOKM\tKOKV\tKOLE\tKOLF\tKOLM\tKOLS\tKOLU\tKOLV\tKOLY\tKOLZ\tKOMA\tKOMH\tKOMK\tKOMN\tKONA\tKONL\tKONM\tKONO\tKONP\tKONX\tKONZ\tKOOA\tKOPF\tKOPN\tKOQT\tKOQU\tKORB\tKORD\tKORE\tKORF\tKORG\tKORH\tKORL\tKORS\tKOSA\tKOSC\tKOSH\tKOSU\tKOTG\tKOTH\tKOTM\tKOUN\tKOVE\tKOVL\tKOVS\tKOWA\tKOWB\tKOWD\tKOXB\tKOXC\tKOXR\tKOXV\tKOZR\tKOZW\tKP28\tKP53\tKP58\tKP59\tKP60\tKP68\tKP69\tKP92\tKPAE\tKPAH\tKPAM\tKPAO\tKPBF\tKPBH\tKPBI\tKPCM\tKPCZ\tKPDC\tKPDK\tKPDT\tKPEA\tKPEO\tKPEQ\tKPEX\tKPGA\tKPGD\tKPGV\tKPHD\tKPHN\tKPHP\tKPHX\tKPIA\tKPIB\tKPIE\tKPIH\tKPIL\tKPIR\tKPIT\tKPKB\tKPKD\tKPKV\tKPLN\tKPMD\tKPMP\tKPMV\tKPNA\tKPNC\tKPNE\tKPNM\tKPNS\tKPNT\tKPOB\tKPOC\tKPOE\tKPOF\tKPOU\tKPPA\tKPPF\tKPPQ\tKPQI\tKPQN\tKPRB\tKPRC\tKPRG\tKPRN\tKPRX\tKPSC\tKPSF\tKPSK\tKPSM\tKPSN\tKPSP\tKPSX\tKPTB\tKPTK\tKPTN\tKPTT\tKPTV\tKPTW\tKPUB\tKPUC\tKPUW\tKPVC\tKPVD\tKPVJ\tKPVU\tKPVW\tKPWA\tKPWC\tKPWG\tKPWK\tKPWT\tKPYM\tKPYX\tKPZQ\tKQCJ\tKQTA\tKRAC\tKRAL\tKRAP\tKRAS\tKRBD\tKRBG\tKRBL\tKRBO\tKRCA\tKRCX\tKRDD\tKRDG\tKRDK\tKRDM\tKRDR\tKREO\tKRFD\tKRGK\tKRHI\tKRHP\tKRHV\tKRIL\tKRIV\tKRIW\tKRKD\tKRKP\tKRKR\tKRKS\tKRME\tKRMG\tKRMN\tKRMY\tKRND\tKRNH\tKRNM\tKRNP\tKRNT\tKROA\tKROC\tKROG\tKROS\tKROW\tKROX\tKRPD\tKRPH\tKRPJ\tKRQB\tKRQE\tKRQO\tKRRL\tKRRT\tKRSL\tKRSN\tKRST\tKRSV\tKRTN\tKRUE\tKRUG\tKRUQ\tKRUT\tKRVL\tKRVS\tKRWF\tKRWI\tKRWL\tKRWV\tKRXE\tKRYV\tKRYY\tKRZN\tKS21\tKS25\tKS32\tKSAC\tKSAD\tKSAF\tKSAN\tKSAR\tKSAV\tKSAW\tKSAZ\tKSBA\tKSBD\tKSBM\tKSBN\tKSBP\tKSBS\tKSBY\tKSCF\tKSCH\tKSCK\tKSDA\tKSDB\tKSDF\tKSDL\tKSDM\tKSDY\tKSEE\tKSEG\tKSEM\tKSEP\tKSET\tKSEZ\tKSFB\tKSFF\tKSFM\tKSFQ\tKSFY\tKSFZ\tKSGF\tKSGH\tKSGJ\tKSGR\tKSGS\tKSGT\tKSGU\tKSHD\tKSHL\tKSHN\tKSHP\tKSHR\tKSHV\tKSIY\tKSJN\tKSJT\tKSJX\tKSKA\tKSKF\tKSKX\tKSLB\tKSLE\tKSLG\tKSLH\tKSLI\tKSLK\tKSLN\tKSLO\tKSLR\tKSME\tKSMN\tKSMO\tKSMP\tKSMQ\tKSMX\tKSNA\tKSNC\tKSNK\tKSNL\tKSNS\tKSNT\tKSNY\tKSOA\tKSOP\tKSOW\tKSPA\tKSPB\tKSPD\tKSPF\tKSPG\tKSPI\tKSPR\tKSPS\tKSPW\tKSQI\tKSQL\tKSRC\tKSRE\tKSRQ\tKSRR\tKSSC\tKSSF\tKSSI\tKSTC\tKSTE\tKSTJ\tKSTP\tKSTS\tKSUA\tKSUE\tKSUN\tKSUS\tKSUT\tKSUU\tKSUW\tKSUX\tKSVC\tKSVE\tKSVH\tKSVN\tKSWF\tKSWO\tKSWW\tKSXT\tKSYN\tKSZL\tKSZT\tKT82\tKTAD\tKTAN\tKTAZ\tKTBN\tKTBR\tKTCC\tKTCL\tKTCM\tKTCS\tKTDF\tKTDZ\tKTEB\tKTEW\tKTEX\tKTHV\tKTIF\tKTIK\tKTIP\tKTIW\tKTIX\tKTKA\tKTKC\tKTKI\tKTKV\tKTLH\tKTMB\tKTNB\tKTNU\tKTOA\tKTOB\tKTOI\tKTOL\tKTOP\tKTOR\tKTPA\tKTPF\tKTPH\tKTPL\tKTQE\tKTQH\tKTRI\tKTRK\tKTRL\tKTRM\tKTTA\tKTTD\tKTTF\tKTTN\tKTTS\tKTUL\tKTUP\tKTUS\tKTVC\tKTVF\tKTVI\tKTVL\tKTVR\tKTWF\tKTWM\tKTXK\tKTYR\tKTYS\tKTZR\tKU16\tKU42\tKUAO\tKUCP\tKUDG\tKUES\tKUGN\tKUIL\tKUIN\tKUKF\tKUKI\tKUKL\tKUKT\tKULM\tKUNO\tKUNU\tKUNV\tKUOX\tKUTA\tKUTS\tKUUU\tKUVA\tKUZA\tKVAD\tKVAF\tKVAY\tKVBG\tKVBT\tKVCB\tKVCT\tKVCV\tKVDF\tKVDI\tKVEL\tKVGT\tKVIH\tKVIS\tKVJI\tKVKS\tKVLD\tKVLL\tKVNY\tKVOK\tKVPC\tKVPS\tKVPZ\tKVQQ\tKVRB\tKVSF\tKVTA\tKVTI\tKVTN\tKVTP\tKVUJ\tKVUO\tKVVV\tKVWU\tKVYS\tKW22\tKW63\tKW99\tKWAL\tKWDG\tKWDR\tKWHP\tKWJF\tKWLD\tKWMC\tKWRB\tKWRI\tKWRL\tKWST\tKWVI\tKWVL\tKWWD\tKWWR\tKWYS\tKXBP\tKXMR\tKXNA\tKXVG\tKY19\tKY50\tKY51\tKY63\tKYIP\tKYKM\tKYKN\tKYNG\tKZZV\tLATI\tLBBG\tLBGO\tLBPD\tLBSF\tLBWN\tLCEN\tLCLK\tLCPH\tLCRA\tLDDU\tLDLO\tLDOS\tLDPL\tLDRI\tLDSB\tLDSP\tLDZA\tLDZD\tLEAB\tLEAL\tLEAM\tLEAS\tLEBA\tLEBB\tLEBG\tLEBL\tLEBZ\tLECH\tLECO\tLECV\tLEGA\tLEGE\tLEGR\tLEGT\tLEIB\tLEJR\tLELC\tLELL\tLELN\tLELO\tLEMD\tLEMG\tLEMH\tLEMO\tLEPA\tLEPP\tLERI\tLERS\tLERT\tLESA\tLESO\tLEST\tLETO\tLEVC\tLEVD\tLEVS\tLEVT\tLEVX\tLEXJ\tLEZG\tLEZL\tLFAT\tLFBA\tLFBC\tLFBD\tLFBE\tLFBG\tLFBH\tLFBI\tLFBL\tLFBM\tLFBO\tLFBP\tLFBT\tLFBY\tLFBZ\tLFCR\tLFGJ\tLFHP\tLFJL\tLFKB\tLFKC\tLFKF\tLFKJ\tLFKS\tLFLB\tLFLC\tLFLL\tLFLN\tLFLS\tLFLW\tLFLX\tLFLY\tLFMC\tLFMD\tLFMH\tLFMI\tLFMK\tLFML\tLFMN\tLFMO\tLFMP\tLFMT\tLFMU\tLFMY\tLFOA\tLFOB\tLFOC\tLFOE\tLFOH\tLFOJ\tLFOK\tLFOP\tLFOT\tLFPB\tLFPG\tLFPM\tLFPN\tLFPO\tLFPV\tLFQB\tLFQG\tLFQQ\tLFRB\tLFRC\tLFRD\tLFRH\tLFRI\tLFRJ\tLFRK\tLFRL\tLFRM\tLFRN\tLFRO\tLFRQ\tLFRS\tLFRT\tLFRU\tLFRZ\tLFSB\tLFSD\tLFSI\tLFSL\tLFSN\tLFSO\tLFST\tLFSX\tLFTH\tLFTW\tLFVP\tLFYR\tLGAD\tLGAL\tLGAV\tLGBL\tLGEL\tLGHI\tLGIR\tLGKC\tLGKF\tLGKL\tLGKO\tLGKP\tLGKR\tLGKV\tLGKZ\tLGLM\tLGLR\tLGMK\tLGMT\tLGNX\tLGPA\tLGPZ\tLGRP\tLGRX\tLGSA\tLGSK\tLGSM\tLGSO\tLGSR\tLGTG\tLGTS\tLGZA\tLHBC\tLHBP\tLHDC\tLHKE\tLHPA\tLHPP\tLHSN\tLIBA\tLIBC\tLIBD\tLIBG\tLIBH\tLIBN\tLIBP\tLIBQ\tLIBR\tLIBV\tLIBY\tLICA\tLICB\tLICC\tLICD\tLICF\tLICG\tLICJ\tLICL\tLICR\tLICT\tLICZ\tLIEA\tLIEB\tLIEC\tLIED\tLIEE\tLIEO\tLIMC\tLIME\tLIMF\tLIMG\tLIMH\tLIMJ\tLIMK\tLIML\tLIMN\tLIMP\tLIMS\tLIMU\tLIMV\tLIMY\tLIMZ\tLIPA\tLIPB\tLIPC\tLIPE\tLIPF\tLIPH\tLIPI\tLIPK\tLIPL\tLIPO\tLIPQ\tLIPR\tLIPS\tLIPX\tLIPY\tLIPZ\tLIQC\tLIQN\tLIQO\tLIQW\tLIRA\tLIRE\tLIRF\tLIRG\tLIRH\tLIRI\tLIRK\tLIRL\tLIRM\tLIRN\tLIRP\tLIRQ\tLIRS\tLIRT\tLIRU\tLIRV\tLIRZ\tLIVC\tLIVD\tLIVE\tLIVF\tLIVM\tLIVO\tLIVP\tLIVR\tLIVT\tLJLJ\tLJMB\tLJPZ\tLKKU\tLKKV\tLKMT\tLKPR\tLKTB\tLLBG\tLLHA\tLLIB\tLMML\tLOAN\tLOWG\tLOWI\tLOWK\tLOWL\tLOWS\tLOWW\tLOXT\tLOXZ\tLPAZ\tLPBJ\tLPFL\tLPFR\tLPHR\tLPLA\tLPMA\tLPMR\tLPMT\tLPOV\tLPPD\tLPPR\tLPPS\tLPPT\tLPST\tLQBK\tLQMO\tLQSA\tLQTZ\tLRAR\tLRBC\tLRBM\tLRBS\tLRCK\tLRCL\tLRCV\tLRIA\tLROD\tLROP\tLRSB\tLRSM\tLRSV\tLRTC\tLRTM\tLRTR\tLSGC\tLSGG\tLSGS\tLSMP\tLSZA\tLSZB\tLSZG\tLSZH\tLSZR\tLTAB\tLTAC\tLTAD\tLTAE\tLTAF\tLTAG\tLTAH\tLTAI\tLTAJ\tLTAN\tLTAP\tLTAR\tLTAS\tLTAT\tLTAU\tLTAV\tLTAW\tLTAY\tLTAZ\tLTBA\tLTBD\tLTBF\tLTBG\tLTBH\tLTBI\tLTBJ\tLTBL\tLTBO\tLTBQ\tLTBR\tLTBS\tLTBT\tLTBU\tLTCA\tLTCC\tLTCD\tLTCE\tLTCF\tLTCG\tLTCI\tLTCJ\tLTCK\tLTFA\tLTFC\tLTFE\tLTFH\tLTFJ\tLUKK\tLWOH\tLWSK\tLXGB\tLYBE\tLYNI\tLYPG\tLYTV\tLYVR\tLZIB\tLZKZ\tLZPP\tLZSL\tLZTT\tLZZI\tMBPV\tMDBH\tMDLR\tMDPC\tMDPP\tMDSD\tMDST\tMGCB\tMGGT\tMGHT\tMGPB\tMGQZ\tMGRT\tMGSJ\tMGZA\tMHAM\tMHCA\tMHCH\tMHLC\tMHLE\tMHLM\tMHNO\tMHPL\tMHRO\tMHSC\tMHSR\tMHTE\tMHTG\tMHYR\tMKJP\tMKJS\tMMAA\tMMAN\tMMAS\tMMBT\tMMCB\tMMCE\tMMCL\tMMCM\tMMCN\tMMCP\tMMCS\tMMCT\tMMCU\tMMCV\tMMCZ\tMMDO\tMMEP\tMMGL\tMMGM\tMMHO\tMMIA\tMMIO\tMMLM\tMMLO\tMMLP\tMMLT\tMMMA\tMMMD\tMMML\tMMMM\tMMMT\tMMMV\tMMMX\tMMMY\tMMMZ\tMMNL\tMMOX\tMMPA\tMMPB\tMMPG\tMMPN\tMMPR\tMMPS\tMMQT\tMMRX\tMMSD\tMMSP\tMMTC\tMMTG\tMMTJ\tMMTM\tMMTO\tMMTP\tMMUN\tMMVA\tMMVR\tMMZC\tMMZH\tMMZO\tMNBL\tMNCH\tMNJG\tMNJU\tMNMG\tMNPC\tMNRS\tMPBO\tMPDA\tMPMG\tMPTO\tMRLB\tMRLM\tMROC\tMRPV\tMSAC\tMSLP\tMSSA\tMSSM\tMSSS\tMTCH\tMTPP\tMUBY\tMUCC\tMUCF\tMUCL\tMUCM\tMUCU\tMUGM\tMUHA\tMUHG\tMUMZ\tMUNG\tMUVR\tMWCB\tMWCR\tMYGF\tMYNN\tMYSM\tMZBZ\tNCRG\tNFFN\tNFNA\tNFNK\tNFNR\tNFTF\tNFTL\tNGFU\tNGTA\tNIUE\tNLWW\tNSFA\tNSTU\tNTAA\tNVSC\tNVSL\tNVSS\tNVVV\tNWWW\tNZAA\tNZCH\tNZCM\tNZOH\tNZSP\tNZWD\tNZWN\tNZWP\tOAHR\tOAJL\tOAKB\tOAMS\tOBBI\tOEAB\tOEAH\tOEBA\tOEBH\tOEDF\tOEDR\tOEGN\tOEGS\tOEGT\tOEHL\tOEJB\tOEJN\tOEKM\tOEMA\tOENG\tOEPA\tOERF\tOERK\tOERR\tOERY\tOESH\tOESK\tOETB\tOETF\tOETR\tOEWD\tOEWJ\tOEYN\tOIAA\tOIAG\tOIAH\tOIAI\tOIAM\tOIAW\tOIBA\tOIBB\tOIBK\tOIBL\tOIBS\tOICC\tOICI\tOICK\tOICS\tOIFK\tOIFM\tOIFS\tOIGG\tOIHH\tOIHR\tOIII\tOIIK\tOIIP\tOIIS\tOIKB\tOIKK\tOIKM\tOIKQ\tOIMB\tOIMC\tOIMM\tOIMN\tOIMS\tOIMT\tOING\tOINN\tOINR\tOISA\tOISF\tOISL\tOISS\tOISY\tOITK\tOITL\tOITM\tOITR\tOITT\tOITZ\tOIYY\tOIZB\tOIZC\tOIZH\tOIZI\tOIZJ\tOJAI\tOJAM\tOJAQ\tOKBK\tOLBA\tOMAA\tOMAD\tOMAL\tOMDB\tOMFJ\tOMRK\tOMSJ\tOOMS\tOOSA\tOOSH\tOPKC\tOPLA\tOPMT\tOPNH\tOPPS\tOPRN\tOPSK\tOSDI\tOSKL\tOSLK\tOTBD\tPAAK\tPAAQ\tPABA\tPABE\tPABI\tPABL\tPABR\tPABT\tPABV\tPACD\tPACV\tPACZ\tPADE\tPADK\tPADL\tPADQ\tPADU\tPAEC\tPAED\tPAEG\tPAEH\tPAEI\tPAEL\tPAEM\tPAEN\tPAFA\tPAFB\tPAFE\tPAFM\tPAFR\tPAGA\tPAGB\tPAGK\tPAGL\tPAGM\tPAGN\tPAGS\tPAGY\tPAHL\tPAHN\tPAHO\tPAHP\tPAHY\tPAII\tPAIK\tPAIL\tPAIM\tPAIN\tPAIW\tPAJC\tPAJN\tPAKI\tPAKK\tPAKN\tPAKP\tPAKT\tPAKU\tPAKV\tPAKW\tPALH\tPALJ\tPALP\tPALU\tPAMC\tPAMD\tPAMH\tPAMM\tPAMR\tPAMY\tPANC\tPANI\tPANN\tPANV\tPAOH\tPAOM\tPAOR\tPAOT\tPAPB\tPAPC\tPAPG\tPAPH\tPAPM\tPAPO\tPAPR\tPAPT\tPAQT\tPARC\tPASA\tPASC\tPASD\tPASH\tPASI\tPASK\tPASL\tPASM\tPASN\tPASO\tPASV\tPASX\tPASY\tPATA\tPATC\tPATE\tPATG\tPATK\tPATL\tPATO\tPAUN\tPAVD\tPAVL\tPAWD\tPAWG\tPAWI\tPAWN\tPAWS\tPAYA\tPAZK\tPFYU\tPGRO\tPGSN\tPGUA\tPGUM\tPGWT\tPHBK\tPHHI\tPHHN\tPHJH\tPHJR\tPHKO\tPHLI\tPHMK\tPHMU\tPHNG\tPHNL\tPHNY\tPHOG\tPHSF\tPHTO\tPKMJ\tPKMR\tPKWA\tPLCH\tPMDY\tPPIZ\tPTKK\tPTPN\tPTRO\tPTSA\tPTTP\tPTYA\tPWAK\tRCFN\tRCKH\tRCMQ\tRCNN\tRCSS\tRCTP\tRJAA\tRJAF\tRJAH\tRJAI\tRJAK\tRJAT\tRJAW\tRJBB\tRJBD\tRJBT\tRJCA\tRJCB\tRJCC\tRJCH\tRJCK\tRJCM\tRJCN\tRJCO\tRJCT\tRJCW\tRJDC\tRJDK\tRJDM\tRJDT\tRJEB\tRJEC\tRJFE\tRJFF\tRJFG\tRJFK\tRJFM\tRJFO\tRJFR\tRJFS\tRJFT\tRJFU\tRJFY\tRJGG\tRJKA\tRJKI\tRJKN\tRJNG\tRJNK\tRJNT\tRJNY\tRJOA\tRJOB\tRJOC\tRJOE\tRJOF\tRJOH\tRJOI\tRJOK\tRJOM\tRJOO\tRJOP\tRJOR\tRJOS\tRJOT\tRJOW\tRJOY\tRJOZ\tRJSA\tRJSC\tRJSD\tRJSF\tRJSH\tRJSI\tRJSK\tRJSM\tRJSN\tRJSO\tRJSR\tRJSS\tRJSU\tRJSY\tRJTC\tRJTE\tRJTF\tRJTI\tRJTK\tRJTL\tRJTO\tRJTR\tRJTT\tRJTU\tRJTY\tRKJJ\tRKJK\tRKNF\tRKNN\tRKNO\tRKNR\tRKNW\tRKPC\tRKPK\tRKPM\tRKPS\tRKPU\tRKSD\tRKSF\tRKSG\tRKSI\tRKSM\tRKSO\tRKSP\tRKSQ\tRKSS\tRKSU\tRKSV\tRKSW\tRKSY\tRKTB\tRKTE\tRKTF\tRKTH\tRKTI\tRKTN\tRKTP\tRKTS\tRKTU\tRKTW\tRKTY\tROAH\tRODN\tROIG\tROMD\tROMY\tRORK\tRORS\tRORY\tROTM\tROYN\tRPLB\tRPLC\tRPLI\tRPLL\tRPMD\tRPMP\tRPMR\tRPMZ\tRPVD\tRPVM\tRPVP\tRPVR\tSAAC\tSAAG\tSAAJ\tSAAP\tSAAR\tSAAV\tSABE\tSACO\tSADF\tSADP\tSAEZ\tSAME\tSAMM\tSAMR\tSANC\tSANE\tSANL\tSANT\tSANU\tSAOC\tSAOR\tSAOU\tSARC\tSARE\tSARF\tSARI\tSARL\tSARM\tSARP\tSARS\tSASA\tSASJ\tSAST\tSATR\tSAVC\tSAVE\tSAVT\tSAVV\tSAVY\tSAWE\tSAWG\tSAWH\tSAWJ\tSAWP\tSAWU\tSAZA\tSAZB\tSAZG\tSAZM\tSAZN\tSAZR\tSAZS\tSAZT\tSAZY\tSBAA\tSBAF\tSBAN\tSBAR\tSBAT\tSBBE\tSBBG\tSBBH\tSBBI\tSBBQ\tSBBR\tSBBU\tSBBV\tSBBW\tSBCC\tSBCF\tSBCG\tSBCI\tSBCJ\tSBCO\tSBCP\tSBCR\tSBCT\tSBCY\tSBCZ\tSBDN\tSBEG\tSBEK\tSBES\tSBFI\tSBFL\tSBFN\tSBFZ\tSBGL\tSBGO\tSBGR\tSBGW\tSBHT\tSBIH\tSBIL\tSBIZ\tSBJP\tSBJR\tSBKG\tSBKP\tSBLO\tSBLP\tSBMA\tSBME\tSBMG\tSBMK\tSBMN\tSBMO\tSBMQ\tSBMS\tSBMT\tSBMY\tSBNT\tSBOI\tSBPA\tSBPB\tSBPC\tSBPF\tSBPG\tSBPK\tSBPL\tSBPP\tSBPS\tSBPV\tSBRB\tSBRF\tSBRJ\tSBRP\tSBSC\tSBSJ\tSBSL\tSBSM\tSBSN\tSBSP\tSBST\tSBSV\tSBTE\tSBTF\tSBTK\tSBTT\tSBUA\tSBUF\tSBUG\tSBUL\tSBUR\tSBVH\tSBVT\tSBYS\tSCAR\tSCBA\tSCCC\tSCCH\tSCCI\tSCCY\tSCDA\tSCEL\tSCFA\tSCHR\tSCIC\tSCIE\tSCIP\tSCSE\tSCTE\tSCVD\tSEAM\tSECU\tSEGU\tSELT\tSEMT\tSESA\tSEST\tSETU\tSFAL\tSGAS\tSGCO\tSGEN\tSGES\tSGME\tSKAR\tSKAS\tSKBG\tSKBO\tSKBQ\tSKCC\tSKCG\tSKCL\tSKEJ\tSKIB\tSKIP\tSKLC\tSKLT\tSKMD\tSKMR\tSKMU\tSKNV\tSKPC\tSKPE\tSKPP\tSKPS\tSKPV\tSKRG\tSKRH\tSKSJ\tSKSM\tSKSP\tSKUC\tSKUI\tSKVP\tSKVV\tSLAP\tSLAS\tSLCA\tSLCB\tSLCO\tSLCP\tSLET\tSLJE\tSLJO\tSLJV\tSLLP\tSLMG\tSLOR\tSLPO\tSLPS\tSLRB\tSLRI\tSLRQ\tSLRY\tSLSA\tSLSB\tSLSI\tSLSM\tSLTJ\tSLTR\tSLVM\tSLVR\tSLYA\tSMJP\tSOCA\tSPAY\tSPCL\tSPEO\tSPGM\tSPHI\tSPHO\tSPHY\tSPHZ\tSPJA\tSPJI\tSPJL\tSPJR\tSPME\tSPMS\tSPNC\tSPPY\tSPQT\tSPQU\tSPRU\tSPSO\tSPST\tSPTN\tSPTU\tSPUR\tSPYL\tSPZO\tSUAA\tSUAG\tSUCA\tSUDU\tSULS\tSUMU\tSUSO\tSVBC\tSVBI\tSVBM\tSVBS\tSVCR\tSVCS\tSVFM\tSVGD\tSVGU\tSVJM\tSVLF\tSVLO\tSVMC\tSVMG\tSVMI\tSVPA\tSVVA\tSVVG\tSYCJ\tTAPA\tTBPB\tTDCF\tTDPD\tTFFF\tTFFR\tTGPY\tTIST\tTISX\tTJBQ\tTJNR\tTJSJ\tTKPK\tTKPN\tTLPC\tTLPL\tTNCA\tTNCB\tTNCC\tTNCE\tTNCM\tTQPF\tTTCP\tTTPP\tTUPJ\tTXKF\tUAAA\tUACC\tUAII\tUAKK\tUAOO\tUARR\tUATE\tUATT\tUAUU\tUBBB\tUBBG\tUEEE\tUERP\tUERR\tUHHH\tUHMA\tUHMD\tUHMM\tUHPP\tUHSS\tUHWW\tUIAA\tUIBB\tUIII\tUIUU\tUKBB\tUKDD\tUKDE\tUKDR\tUKHH\tUKKE\tUKKK\tUKKM\tUKLI\tUKLL\tUKLN\tUKLR\tUKLU\tUKON\tUKOO\tULAA\tULLI\tULMM\tUMBB\tUMGG\tUMII\tUMKK\tUMMG\tUMMS\tUNAA\tUNBB\tUNEE\tUNOO\tURKA\tURKK\tURMM\tURMN\tURMT\tURSS\tURWA\tURWI\tURWW\tUSCC\tUSHH\tUSNN\tUSPP\tUSRR\tUSSS\tUTAA\tUTDD\tUTNN\tUTNU\tUTSS\tUTST\tUTTT\tUUBP\tUUDD\tUUEE\tUUOO\tUUWW\tUUYY\tUWGG\tUWKD\tUWLW\tUWOO\tUWUU\tUWWW\tVAAH\tVAAU\tVABB\tVABM\tVABP\tVABV\tVAID\tVAJB\tVAKP\tVANP\tVARK\tVCBI\tVCCC\tVDPP\tVDSR\tVEAT\tVEBD\tVEBS\tVECC\tVEGK\tVEGT\tVEGY\tVEIM\tVEJH\tVEJS\tVELR\tVEMN\tVEPT\tVERC\tVGEG\tVGSY\tVHHH\tVIAG\tVIAR\tVIDD\tVIDP\tVIGR\tVIJO\tVIJP\tVIKO\tVILK\tVLLB\tVLSK\tVLVT\tVMMC\tVNKT\tVNSI\tVOBG\tVOBZ\tVOCB\tVOCP\tVOHY\tVOMD\tVOML\tVOMM\tVOTR\tVOTV\tVRMM\tVTBD\tVTBS\tVTBU\tVTCC\tVTCH\tVTCL\tVTCN\tVTCP\tVTPH\tVTPM\tVTSB\tVTSH\tVTSP\tVTSR\tVTSS\tVTST\tVTUD\tVTUK\tVTUL\tVTUU\tVVDN\tVVNB\tVVPB\tVVTS\tVYYY\tWAAA\tWABB\tWAJJ\tWAMM\tWAPP\tWBGB\tWBGG\tWBGR\tWBGS\tWBKK\tWBKL\tWBKS\tWBKT\tWBKW\tWBSB\tWIBB\tWIII\tWIMM\tWIOO\tWIPP\tWMBA\tWMKC\tWMKD\tWMKJ\tWMKK\tWMKL\tWMKM\tWMKP\tWMSA\tWSAP\tWSSS\tYAYE\tYBAS\tYBBN\tYBCG\tYBCS\tYBCV\tYBMA\tYBMK\tYBOK\tYBPN\tYBRK\tYBRM\tYBTL\tYBWP\tYMAV\tYMAY\tYMEN\tYMHB\tYMLT\tYMML\tYPAD\tYPCC\tYPDN\tYPEA\tYPKG\tYPKU\tYPLM\tYPPD\tYPPH\tYPTN\tYPWR\tYPXM\tYSCB\tYSDU\tYSNF\tYSNW\tYSRI\tYSSY\tYSTW\tYSWG\tZBAA\tZBHH\tZBTJ\tZBYN\tZGGG\tZGHA\tZGKL\tZGNN\tZGOW\tZGSZ\tZHCC\tZHHH\tZJSY\tZLLL\tZLXN\tZLXY\tZMUB\tZPPP\tZSAM\tZSCN\tZSFZ\tZSHC\tZSNJ\tZSOF\tZSPD\tZSQD\tZSSS\tZUCK\tZUGY\tZUUU\tZWSH\tZWWW\tZYCC\tZYHB\tZYTL\tZYTX'.split('\t')\n",
    "inputlist=[]\n",
    "for station in stations:\n",
    "    inputlist.append((station))"
   ]
  },
  {
   "cell_type": "code",
   "execution_count": 3,
   "metadata": {
    "id": "fdI6Sjy7a_3l"
   },
   "outputs": [],
   "source": [
    "def inParentesis(cadena):\n",
    "  if \"(\"in cadena and \")\" in cadena:\n",
    "    inicio=cadena.index(\"(\")\n",
    "    fin=cadena.index(\")\")\n",
    "    return cadena[inicio+1:fin]\n",
    "  else:\n",
    "    return cadena\n",
    "def velocidad(cadena):\n",
    "  if 'to'in cadena:\n",
    "    lines=cadena.split(' ')\n",
    "    ang1=angulo(lines[0])\n",
    "    ang2=angulo(lines[2])\n",
    "    vel=lines[4]\n",
    "    return f'{(ang1+ang2)/2},{int(vel)/1.944}'\n",
    "  elif 'at'in cadena:\n",
    "    lines=cadena.split(' ')\n",
    "    ang=lines[0]\n",
    "    vel=lines[2]\n",
    "    return f'{angulo(ang)},{int(vel)/1.944}'\n",
    "  else:\n",
    "    return '0,0'\n",
    "def angulo(ang):\n",
    "  if ang == 'N':\n",
    "    return 0\n",
    "  elif ang == 'NNE':\n",
    "    return 23\n",
    "  elif ang == 'NE':\n",
    "    return 45\n",
    "  elif ang == 'ENE':\n",
    "    return 68\n",
    "  elif ang == 'E':\n",
    "    return 90\n",
    "  elif ang == 'ESE':\n",
    "    return 113\n",
    "  elif ang == 'SE':\n",
    "    return 135\n",
    "  elif ang == 'SSE':\n",
    "    return 185\n",
    "  elif ang == 'S':\n",
    "    return 180\n",
    "  elif ang == 'SSW':\n",
    "    return 203\n",
    "  elif ang == 'SW':\n",
    "    return 225\n",
    "  elif ang == 'WSW':\n",
    "    return 248\n",
    "  elif ang == 'W':\n",
    "    return 270\n",
    "  elif ang == 'WNW':\n",
    "    return 293\n",
    "  elif ang == 'NW':\n",
    "    return 315\n",
    "  else:\n",
    "    return 338\n",
    "\n",
    "def fetch(station,año,mes):\n",
    "  try:\n",
    "    url = f'https://www.ogimet.com/display_metars2.php?lugar={station}&tipo=SA&ord=DIR&nil=NO&fmt=txt&ano={año}&mes={mes}&day=01&hora=00&anof={año}&mesf={mes}&dayf=30&horaf=23&minf=59&enviar=Ver'\n",
    "    html = urlopen(url).read()\n",
    "    soup = BeautifulSoup(html, features=\"html.parser\")\n",
    "    # kill all script and style elements\n",
    "    for script in soup([\"script\", \"style\"]):\n",
    "        script.extract()    # rip it out\n",
    "    # get text\n",
    "    text = soup.get_text()\n",
    "    # break into lines and remove leading and trailing space on each\n",
    "    lines = (line.strip() for line in text.splitlines())\n",
    "    # break multi-headlines into a line each\n",
    "    chunks = (phrase.strip() for line in lines for phrase in line.split(\"  \"))\n",
    "    # drop blank lines\n",
    "    text = '\\n'.join(chunk for chunk in chunks if chunk)\n",
    "    return text\n",
    "  except Exception:\n",
    "    return None"
   ]
  },
  {
   "cell_type": "code",
   "execution_count": 9,
   "metadata": {},
   "outputs": [],
   "source": [
    "df_stations= pd.read_csv('Reporte_estaciones_2.csv')"
   ]
  },
  {
   "cell_type": "code",
   "execution_count": 10,
   "metadata": {},
   "outputs": [],
   "source": [
    "def addReg(station):\n",
    "    meses=['09']\n",
    "    años=['2020']\n",
    "    horas=['00','06','12','18']\n",
    "    dias=['01','02','03','04','05','06','07','08','09','10','11','12','13','14','15','16','17','18','19','20','21','22','23','24','25','26','27','28','29','30']\n",
    "    b=17.625\n",
    "    c=243.04\n",
    "    localdata=[]\n",
    "    try:\n",
    "        res=df_stations.loc[df_stations['ICAO'].str.contains(station)]\n",
    "        Latitud=float(res['Latitude'])\n",
    "        Altitud=float(res['Altitude'])\n",
    "        Longitud=float(res['Length'])\n",
    "        for año in años:\n",
    "            for mes in meses:\n",
    "                MetarOB=fetch(station,año,mes)\n",
    "                for dia in dias:\n",
    "                    for hora in horas:\n",
    "                        if f'{año}{mes}{dia}{hora}00' in MetarOB:\n",
    "                            posi=MetarOB.index(f'{año}{mes}{dia}{hora}00')\n",
    "                            posf=posi+(MetarOB[MetarOB.index(f'{año}{mes}{dia}{hora}00') :]).index('=')\n",
    "                            Met=MetarOB[posi:posf]\n",
    "                            met=Met[19: ].replace('\\n',' ')\n",
    "                            obs=Metar.Metar(met)\n",
    "                            viento=''\n",
    "                            temperatura=0\n",
    "                            presion=''\n",
    "                            dewPoint=''\n",
    "                            lineas=obs.string().split(\"\\n\")\n",
    "                            for linea in lineas:\n",
    "                                if \"wind: \" in linea:\n",
    "                                    corte=linea.index(\": \")\n",
    "                                    viento=velocidad(linea[corte+2:])\n",
    "                                if \"temperature: \" in linea:\n",
    "                                    corte=linea.index(\": \")\n",
    "                                    k=inParentesis(linea[corte+2:]).split(' ')\n",
    "                                    temperatura=float(k[0])+273.15\n",
    "                                    t=float(k[0])\n",
    "                                if \"dew point: \" in linea:\n",
    "                                    corte=linea.index(\": \")\n",
    "                                    dewPoint=float(linea[corte+2:][:-1])\n",
    "                                    humedad= 100*math.exp((c*b*(dewPoint-t))/((c+t)*(c+dewPoint)))\n",
    "                                if \"pressure: \" in linea:\n",
    "                                    corte=linea.index(\": \")\n",
    "                                    presion=float(inParentesis(linea[corte+2:])[:-4])\n",
    "                            if presion != '':\n",
    "                                localdata.append([f'{año}-{mes}-{dia} {hora}:00:00',Latitud,Longitud,Altitud,'Pressure',presion])\n",
    "                            if humedad != '': \n",
    "                                localdata.append([f'{año}-{mes}-{dia} {hora}:00:00',Latitud,Longitud,Altitud,'RH ',humedad])\n",
    "                            if temperatura != '' :\n",
    "                                localdata.append([f'{año}-{mes}-{dia} {hora}:00:00',Latitud,Longitud,Altitud,'Temperature',temperatura])\n",
    "                            if viento != 0:\n",
    "                                com=viento.split(',')\n",
    "                                angulo=float(com[0])  \n",
    "                                velocity=float(com[1])\n",
    "                                u=math.sin(angulo)*velocity\n",
    "                                v=math.cos(angulo)*velocity\n",
    "                                localdata.append([f'{año}-{mes}-{dia} {hora}:00:00',Latitud,Longitud,Altitud,'WindU',u])\n",
    "                                localdata.append([f'{año}-{mes}-{dia} {hora}:00:00',Latitud,Longitud,Altitud,'WindV',v])\n",
    "        return localdata\n",
    "    except:\n",
    "        None"
   ]
  },
  {
   "cell_type": "code",
   "execution_count": 11,
   "metadata": {
    "id": "cGwKf3lEbNbw"
   },
   "outputs": [],
   "source": [
    "if __name__ == '__main__':\n",
    "    trabajos=multiprocessing.cpu_count()\n",
    "    with multiprocessing.Pool(trabajos-1) as p:\n",
    "        data=p.map(addReg,inputlist)"
   ]
  },
  {
   "cell_type": "code",
   "execution_count": 12,
   "metadata": {},
   "outputs": [
    {
     "name": "stdout",
     "output_type": "stream",
     "text": [
      "273719\n"
     ]
    }
   ],
   "source": [
    "data2=[]\n",
    "for lista in data:\n",
    "    if lista is not None:\n",
    "        for i in lista:\n",
    "            data2.append(i)\n",
    "print(len(data2))"
   ]
  },
  {
   "cell_type": "code",
   "execution_count": 13,
   "metadata": {},
   "outputs": [
    {
     "data": {
      "text/html": [
       "<div>\n",
       "<style scoped>\n",
       "    .dataframe tbody tr th:only-of-type {\n",
       "        vertical-align: middle;\n",
       "    }\n",
       "\n",
       "    .dataframe tbody tr th {\n",
       "        vertical-align: top;\n",
       "    }\n",
       "\n",
       "    .dataframe thead th {\n",
       "        text-align: right;\n",
       "    }\n",
       "</style>\n",
       "<table border=\"1\" class=\"dataframe\">\n",
       "  <thead>\n",
       "    <tr style=\"text-align: right;\">\n",
       "      <th></th>\n",
       "      <th>Date</th>\n",
       "      <th>Latitude</th>\n",
       "      <th>Length</th>\n",
       "      <th>Altitude</th>\n",
       "      <th>Variable</th>\n",
       "      <th>Value</th>\n",
       "    </tr>\n",
       "  </thead>\n",
       "  <tbody>\n",
       "    <tr>\n",
       "      <th>0</th>\n",
       "      <td>2020-09-01 00:00:00</td>\n",
       "      <td>50.133333</td>\n",
       "      <td>-122.95</td>\n",
       "      <td>658.0</td>\n",
       "      <td>Pressure</td>\n",
       "      <td>1019.000000</td>\n",
       "    </tr>\n",
       "    <tr>\n",
       "      <th>1</th>\n",
       "      <td>2020-09-01 00:00:00</td>\n",
       "      <td>50.133333</td>\n",
       "      <td>-122.95</td>\n",
       "      <td>658.0</td>\n",
       "      <td>RH</td>\n",
       "      <td>67.563333</td>\n",
       "    </tr>\n",
       "    <tr>\n",
       "      <th>2</th>\n",
       "      <td>2020-09-01 00:00:00</td>\n",
       "      <td>50.133333</td>\n",
       "      <td>-122.95</td>\n",
       "      <td>658.0</td>\n",
       "      <td>Temperature</td>\n",
       "      <td>289.150000</td>\n",
       "    </tr>\n",
       "    <tr>\n",
       "      <th>3</th>\n",
       "      <td>2020-09-01 00:00:00</td>\n",
       "      <td>50.133333</td>\n",
       "      <td>-122.95</td>\n",
       "      <td>658.0</td>\n",
       "      <td>WindU</td>\n",
       "      <td>-2.060578</td>\n",
       "    </tr>\n",
       "    <tr>\n",
       "      <th>4</th>\n",
       "      <td>2020-09-01 00:00:00</td>\n",
       "      <td>50.133333</td>\n",
       "      <td>-122.95</td>\n",
       "      <td>658.0</td>\n",
       "      <td>WindV</td>\n",
       "      <td>-1.539249</td>\n",
       "    </tr>\n",
       "    <tr>\n",
       "      <th>5</th>\n",
       "      <td>2020-09-01 18:00:00</td>\n",
       "      <td>50.133333</td>\n",
       "      <td>-122.95</td>\n",
       "      <td>658.0</td>\n",
       "      <td>Pressure</td>\n",
       "      <td>1022.000000</td>\n",
       "    </tr>\n",
       "    <tr>\n",
       "      <th>6</th>\n",
       "      <td>2020-09-01 18:00:00</td>\n",
       "      <td>50.133333</td>\n",
       "      <td>-122.95</td>\n",
       "      <td>658.0</td>\n",
       "      <td>RH</td>\n",
       "      <td>82.135480</td>\n",
       "    </tr>\n",
       "    <tr>\n",
       "      <th>7</th>\n",
       "      <td>2020-09-01 18:00:00</td>\n",
       "      <td>50.133333</td>\n",
       "      <td>-122.95</td>\n",
       "      <td>658.0</td>\n",
       "      <td>Temperature</td>\n",
       "      <td>287.150000</td>\n",
       "    </tr>\n",
       "    <tr>\n",
       "      <th>8</th>\n",
       "      <td>2020-09-01 18:00:00</td>\n",
       "      <td>50.133333</td>\n",
       "      <td>-122.95</td>\n",
       "      <td>658.0</td>\n",
       "      <td>WindU</td>\n",
       "      <td>-0.824231</td>\n",
       "    </tr>\n",
       "    <tr>\n",
       "      <th>9</th>\n",
       "      <td>2020-09-01 18:00:00</td>\n",
       "      <td>50.133333</td>\n",
       "      <td>-122.95</td>\n",
       "      <td>658.0</td>\n",
       "      <td>WindV</td>\n",
       "      <td>-0.615700</td>\n",
       "    </tr>\n",
       "  </tbody>\n",
       "</table>\n",
       "</div>"
      ],
      "text/plain": [
       "                  Date   Latitude  Length  Altitude     Variable        Value\n",
       "0  2020-09-01 00:00:00  50.133333 -122.95     658.0     Pressure  1019.000000\n",
       "1  2020-09-01 00:00:00  50.133333 -122.95     658.0          RH     67.563333\n",
       "2  2020-09-01 00:00:00  50.133333 -122.95     658.0  Temperature   289.150000\n",
       "3  2020-09-01 00:00:00  50.133333 -122.95     658.0        WindU    -2.060578\n",
       "4  2020-09-01 00:00:00  50.133333 -122.95     658.0        WindV    -1.539249\n",
       "5  2020-09-01 18:00:00  50.133333 -122.95     658.0     Pressure  1022.000000\n",
       "6  2020-09-01 18:00:00  50.133333 -122.95     658.0          RH     82.135480\n",
       "7  2020-09-01 18:00:00  50.133333 -122.95     658.0  Temperature   287.150000\n",
       "8  2020-09-01 18:00:00  50.133333 -122.95     658.0        WindU    -0.824231\n",
       "9  2020-09-01 18:00:00  50.133333 -122.95     658.0        WindV    -0.615700"
      ]
     },
     "execution_count": 13,
     "metadata": {},
     "output_type": "execute_result"
    }
   ],
   "source": [
    "df = pd.DataFrame(data2,columns=['Date','Latitude','Length','Altitude','Variable','Value'])\n",
    "df.head(10)"
   ]
  },
  {
   "cell_type": "code",
   "execution_count": 14,
   "metadata": {},
   "outputs": [],
   "source": [
    "df.to_csv(f'AllData.csv', index=False)"
   ]
  },
  {
   "cell_type": "code",
   "execution_count": 15,
   "metadata": {},
   "outputs": [
    {
     "data": {
      "image/png": "[encoded data removed]",
      "text/plain": [
       "<Figure size 432x288 with 1 Axes>"
      ]
     },
     "metadata": {},
     "output_type": "display_data"
    }
   ],
   "source": [
    "lati = []\n",
    "lngt = []\n",
    "for stat in df.index:\n",
    "    lati.append(float(df['Latitude'][stat]))\n",
    "    lngt.append(float(df['Length'][stat]))\n",
    "m = Basemap(resolution='l', lat_0=0, lon_0=0)\n",
    "m.drawcoastlines()\n",
    "m.drawcountries()\n",
    "m.drawstates()\n",
    "m.drawparallels(np.arange(-87.159, 87.159, 20))\n",
    "m.drawmeridians(np.arange(0, 357.5, 20))\n",
    "m.fillcontinents(color='white')\n",
    "m.scatter(lngt, lati, marker='.', color='r', zorder=1.5)\n",
    "plt.show()\n"
   ]
  },
  {
   "cell_type": "code",
   "execution_count": 17,
   "metadata": {},
   "outputs": [],
   "source": [
    "meses=['09']\n",
    "años=['2020']\n",
    "horas=['00','06','12','18']\n",
    "dias=['01','02','03','04','05','06','07','08','09','10','11','12','13','14','15','16','17','18','19','20','21','22','23','24','25','26','27','28','29','30']\n",
    "for año in años:\n",
    "    for mes in meses:\n",
    "        for dia in dias:\n",
    "            for hora in horas:\n",
    "                filename=f'{año}-{mes}-{dia} {hora}:00:00.csv'\n",
    "                df_file=df.loc[df['Date']==f'{dia}-{mes}-{año} {hora}:00:00']\n",
    "                df_file.to_csv(filename, index=False)"
   ]
  },
  {
   "cell_type": "code",
   "execution_count": 18,
   "metadata": {},
   "outputs": [],
   "source": [
    "X_speedy_lon = np.linspace(0,360-3.75,96)\n",
    "Y_speedy_lat = np.array(\"-87.159 -83.479 -79.777 -76.070 -72.362 -68.652 -64.942 -61.232 -57.521 -53.810 -50.099 -46.389 -42.678 -38.967 -35.256 -31.545 -27.833 -24.122 -20.411 -16.700 -12.989 -9.278 -5.567 -1.856 1.856 5.567 9.278 12.989 16.700 20.411 24.122 27.833 31.545 35.256 38.967 42.678 46.389 50.099 53.810 57.521 61.232 64.942 68.652 72.362 76.070 79.777 83.479 87.159\".split(\" \"))\n",
    "Y_speedy_lat = Y_speedy_lat.astype(np.float32)\n",
    "X_noaa_lon = np.linspace(0,360-2.5,144)\n",
    "Y_noaa_lat = np.linspace(90,-90,73)"
   ]
  },
  {
   "cell_type": "code",
   "execution_count": 19,
   "metadata": {},
   "outputs": [],
   "source": [
    "def nearest_neighbour(X_lng, Y_lat, lng, lat):\n",
    "    diff_x = 100\n",
    "    diff_y = 100\n",
    "    pos_x = 0\n",
    "    pos_y = 0\n",
    "    for x in X_lng:\n",
    "        diff = abs(x - lng)\n",
    "        if diff_x > diff:\n",
    "            pos_x = x\n",
    "            diff_x = diff\n",
    "\n",
    "    for y in Y_lat:\n",
    "        diff = abs(y - lat)\n",
    "        if diff_y > diff:\n",
    "            pos_y = y\n",
    "            diff_y = diff\n",
    "    return [pos_x, pos_y]\n"
   ]
  },
  {
   "cell_type": "code",
   "execution_count": 20,
   "metadata": {},
   "outputs": [
    {
     "name": "stdout",
     "output_type": "stream",
     "text": [
      "['2020-09-01 00:00:00', 50.13333333333333, -122.95, 658.0, 'Pressure', 1019.0]\n"
     ]
    }
   ],
   "source": [
    "print(data2[0])\n",
    "    "
   ]
  },
  {
   "cell_type": "code",
   "execution_count": 21,
   "metadata": {},
   "outputs": [],
   "source": [
    "dataNOAA=[]\n",
    "dataSPEEDY=[]\n",
    "for data in data2:\n",
    "    [lngSpeddy,latSpeddy]=nearest_neighbour(X_speedy_lon, Y_speedy_lat, float(data[2])+180,float(data[1]))\n",
    "    [lngNOAA,latNOAA]=nearest_neighbour(X_noaa_lon, Y_noaa_lat, float(data[2])+180,float(data[1]))\n",
    "    dataNOAA.append([data[0],latNOAA,lngNOAA,data[3],data[4],data[5]])\n",
    "    dataSPEEDY.append([data[0],latSpeddy,lngSpeddy,data[3],data[4],data[5]])\n"
   ]
  },
  {
   "cell_type": "code",
   "execution_count": 22,
   "metadata": {},
   "outputs": [],
   "source": [
    "df_NOAA = pd.DataFrame(dataNOAA,columns=['Fecha','Latitud','Longitud','Altitud','Variable','Valor'])\n",
    "df_NOAA.head(10)\n",
    "df_NOAA.to_csv(f'AllData_NOAA_coord.csv', index=False)"
   ]
  },
  {
   "cell_type": "code",
   "execution_count": 23,
   "metadata": {},
   "outputs": [],
   "source": [
    "df_SPEEDY = pd.DataFrame(dataSPEEDY,columns=['Fecha','Latitud','Longitud','Altitud','Variable','Valor'])\n",
    "df_SPEEDY.head(10)\n",
    "df_SPEEDY.to_csv(f'AllData_SPEEDY_coord.csv', index=False)"
   ]
  },
  {
   "cell_type": "code",
   "execution_count": 24,
   "metadata": {},
   "outputs": [],
   "source": [
    "def plot_speedy():\n",
    "    plt.figure()\n",
    "    for x in X_speedy_lon:\n",
    "        for y in Y_speedy_lat:\n",
    "            plt.plot(x,y,'ko',ms=1);\n",
    "\n",
    "def plot_noaa():\n",
    "    plt.figure()\n",
    "    for x in X_noaa_lon:\n",
    "        for y in Y_noaa_lat:\n",
    "            plt.plot(x,y,'ko',ms=1);"
   ]
  },
  {
   "cell_type": "code",
   "execution_count": 25,
   "metadata": {},
   "outputs": [
    {
     "data": {
      "image/png": "[encoded data removed]",
      "text/plain": [
       "<Figure size 432x288 with 1 Axes>"
      ]
     },
     "metadata": {
      "needs_background": "light"
     },
     "output_type": "display_data"
    }
   ],
   "source": [
    "plot_speedy()\n",
    "for reg in df_SPEEDY.index:\n",
    "    plt.plot(df_SPEEDY['Longitud'][reg],df_SPEEDY['Latitud'][reg],'ro',ms=1);"
   ]
  },
  {
   "cell_type": "code",
   "execution_count": 26,
   "metadata": {},
   "outputs": [
    {
     "data": {
      "image/png": "[encoded data removed]",
      "text/plain": [
       "<Figure size 432x288 with 1 Axes>"
      ]
     },
     "metadata": {
      "needs_background": "light"
     },
     "output_type": "display_data"
    }
   ],
   "source": [
    "plot_noaa()\n",
    "for reg in df_NOAA.index:\n",
    "    plt.plot(df_NOAA['Longitud'][reg],df_NOAA['Latitud'][reg],'ro',ms=1);"
   ]
  },
  {
   "cell_type": "code",
   "execution_count": null,
   "metadata": {},
   "outputs": [],
   "source": []
  }
 ],
 "metadata": {
  "colab": {
   "collapsed_sections": [],
   "name": "Metar 2 ultimos dias.ipynb",
   "provenance": []
  },
  "kernelspec": {
   "display_name": "Python 3",
   "language": "python",
   "name": "python3"
  },
  "language_info": {
   "codemirror_mode": {
    "name": "ipython",
    "version": 3
   },
   "file_extension": ".py",
   "mimetype": "text/x-python",
   "name": "python",
   "nbconvert_exporter": "python",
   "pygments_lexer": "ipython3",
   "version": "3.6.8"
  }
 },
 "nbformat": 4,
 "nbformat_minor": 1
}
