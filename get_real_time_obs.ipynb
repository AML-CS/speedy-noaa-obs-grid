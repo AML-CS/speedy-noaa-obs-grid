{
 "cells": [
  {
   "cell_type": "code",
   "execution_count": 1,
   "metadata": {},
   "outputs": [
    {
     "name": "stdout",
     "output_type": "stream",
     "text": [
      "Requirement already satisfied: beautifulsoup4 in /home/syseng/omejiaa/.local/lib/python3.6/site-packages\n",
      "Requirement already satisfied: soupsieve>1.2; python_version >= \"3.0\" in /home/syseng/omejiaa/.local/lib/python3.6/site-packages (from beautifulsoup4)\n",
      "Requirement already satisfied: metar in /home/syseng/omejiaa/.local/lib/python3.6/site-packages\n",
      "Collecting pyproj==1.9.6\n",
      "  Using cached https://files.pythonhosted.org/packages/26/8c/1da0580f334718e04f8bbf74f0515a7fb8185ff96b2560ce080c11aa145b/pyproj-1.9.6.tar.gz\n",
      "Installing collected packages: pyproj\n",
      "  Found existing installation: pyproj 2.6.1.post1\n",
      "    Uninstalling pyproj-2.6.1.post1:\n",
      "      Successfully uninstalled pyproj-2.6.1.post1\n",
      "  Running setup.py install for pyproj ... \u001b[?25ldone\n",
      "\u001b[?25hSuccessfully installed pyproj-1.9.6\n",
      "Requirement already satisfied: portolan in /home/syseng/omejiaa/.local/lib/python3.6/site-packages\n",
      "Requirement already satisfied: pandas in /home/syseng/omejiaa/.local/lib/python3.6/site-packages\n",
      "Requirement already satisfied: python-dateutil>=2.7.3 in /home/syseng/omejiaa/.local/lib/python3.6/site-packages (from pandas)\n",
      "Requirement already satisfied: numpy>=1.15.4 in /home/syseng/omejiaa/.local/lib/python3.6/site-packages (from pandas)\n",
      "Requirement already satisfied: pytz>=2017.2 in /home/syseng/omejiaa/.local/lib/python3.6/site-packages (from pandas)\n",
      "Requirement already satisfied: six>=1.5 in /home/syseng/omejiaa/.local/lib/python3.6/site-packages (from python-dateutil>=2.7.3->pandas)\n"
     ]
    }
   ],
   "source": [
    "!pip3 install beautifulsoup4 --user\n",
    "!pip3 install metar --user\n",
    "!pip3 install -q -U tqdm --user\n",
    "!pip3 install pyproj==1.9.6 --user\n",
    "!pip3 install -q -U https://github.com/matplotlib/basemap/archive/master.zip --user\n",
    "!pip3 install portolan --user\n",
    "!pip3 install pandas --user"
   ]
  },
  {
   "cell_type": "code",
   "execution_count": 26,
   "metadata": {},
   "outputs": [],
   "source": [
    "import os\n",
    "import re\n",
    "import shutil\n",
    "import multiprocessing\n",
    "import datetime\n",
    "from datetime import date, timedelta\n",
    "\n",
    "from urllib.request import urlopen\n",
    "from bs4 import BeautifulSoup\n",
    "from tqdm.notebook import tqdm\n",
    "import pandas as pd\n",
    "import numpy as np\n",
    "\n",
    "from mpl_toolkits.basemap import Basemap\n",
    "import matplotlib.pyplot as plt\n",
    "\n",
    "from metar import Metar\n",
    "\n",
    "import portolan"
   ]
  },
  {
   "cell_type": "markdown",
   "metadata": {},
   "source": [
    "# Fetch observations"
   ]
  },
  {
   "cell_type": "code",
   "execution_count": 2,
   "metadata": {},
   "outputs": [],
   "source": [
    "def fetch(url):\n",
    "    try:\n",
    "        html = urlopen(url).read()\n",
    "        soup = BeautifulSoup(html, features='html.parser')\n",
    "        for script in soup([\"script\", \"style\"]):\n",
    "            script.extract()\n",
    "        return soup\n",
    "    except Exception:\n",
    "        return None\n",
    "\n",
    "def get_stations_noaa():\n",
    "    soup = fetch('https://tgftp.nws.noaa.gov/data/observations/metar/stations/')\n",
    "    stations = []\n",
    "    for link in soup.find_all('a'):\n",
    "        href = link.get('href')\n",
    "        if 'TXT' in href:\n",
    "            stations.append(href.split('.TXT')[0])\n",
    "    return stations\n",
    "\n",
    "def get_stations_with_coords():\n",
    "    soup = fetch('http://weather.rap.ucar.edu/surface/stations.txt')\n",
    "    text = soup.get_text()\n",
    "    matches = re.findall(r\".*([A-Z]{4}).*[\\s]([\\d]+\\s[\\d]+\\w).*[\\s]([\\d]+\\s[\\d]+\\w)[\\s]*(\\d{1,4}).*\", text)\n",
    "    stations = []\n",
    "    for match in matches:\n",
    "        stations.append({'ICAO': match[0], 'coords': \"+\".join(match[1:]).replace(' ', '-')})\n",
    "    return stations\n",
    "\n",
    "def gms_to_lat_lng(gms):\n",
    "    comp = gms.split('-')\n",
    "    if len(comp)==2:\n",
    "        if 'N' in comp[1] or 'E' in comp[1]:\n",
    "            return int(comp[0])+(int(comp[1][:len(comp)])/60)\n",
    "        else:\n",
    "            return -(int(comp[0])+(int(comp[1][:len(comp)])/60))\n",
    "    elif len(comp)==3:\n",
    "        if 'N' in comp[2] or 'E' in comp[2]:\n",
    "            return int(comp[0])+(int(comp[1][:len(comp)])/60)+(int(comp[2][:len(comp)-1])/60)\n",
    "        else:\n",
    "            comp[2]='0'+comp[2][:len(comp)-1]\n",
    "            return (-int(comp[0])-(int(comp[1][:len(comp)])/60)-(int(comp[2][:len(comp)-1])/3600))\n",
    "    else:\n",
    "        return 0\n",
    "\n",
    "def get_last_metar(station):\n",
    "    now = datetime.datetime.utcnow()\n",
    "    soup = fetch(f\"https://www.ogimet.com/display_metars2.php?lugar={station['ICAO']}&tipo=SA&ord=DIR&nil=NO&fmt=text&ano={now.year}&mes={now.month}&day={now.day}&hora={now.hour}\")\n",
    "    if soup is None:\n",
    "        return []\n",
    "    text = soup.get_text()\n",
    "    if f\"No hay METAR/SPECI de {station} en el periodo solicitado\" in text:\n",
    "        return []\n",
    "    data = []\n",
    "    text = re.sub('\\s\\s+', ' ', text)\n",
    "    matches = re.findall(r\"\\s(\\d+)[\\s]METAR\\s(.*)=\", text)\n",
    "    for match in matches:\n",
    "        if ',' not in match:\n",
    "            (lat, lng, elev) = station['coords'].split('+')\n",
    "            data.append({ 'lat': gms_to_lat_lng(lat), 'lng': gms_to_lat_lng(lng), 'elev': elev, 'datetime': match[0], 'observation': match[1] })\n",
    "    return data"
   ]
  },
  {
   "cell_type": "markdown",
   "metadata": {},
   "source": [
    "# Parse data from METAR"
   ]
  },
  {
   "cell_type": "code",
   "execution_count": 3,
   "metadata": {},
   "outputs": [],
   "source": [
    "PRESSURE_LEVELS_HEIGHTS_VALUES = [\n",
    "    762,\n",
    "    1458,\n",
    "    3013,\n",
    "    5576,\n",
    "    9166,\n",
    "    11787,\n",
    "    16000,\n",
    "]\n",
    "\n",
    "def get_pressure(obs):\n",
    "    \"\"\"returns press Pa\n",
    "    \n",
    "    format examples:\n",
    "        pressure: 1027.8 mb\n",
    "        3-hr pressure change 1.7hPa, increasing, then decreasing\n",
    "    \"\"\"\n",
    "\n",
    "    press = 0.0\n",
    "    if 'pressure:' in obs:\n",
    "        press = float(re.findall(r\".*pressure:\\s(.*)[\\s]mb\\s*\", obs)[0])\n",
    "    else:\n",
    "        press = float(re.findall(r\".*pressure[\\s]change[\\s](.*)hPa\", obs)[0])\n",
    "\n",
    "    return press * 100\n",
    "\n",
    "def get_dew_point(obs):\n",
    "    \"\"\" returns temp K \"\"\"\n",
    "    return float(re.findall(r\".*dew[\\s]point:\\s(.*)[\\s]C\\s*\", obs)[0]) + 273.15\n",
    "\n",
    "def get_temperature(obs):\n",
    "    \"\"\" returns temp K \"\"\"\n",
    "    return float(re.findall(r\".*temperature:\\s(.*)[\\s]C\\s*\", obs)[0]) + 273.15\n",
    "\n",
    "def nearest_neighbour(X_lng, Y_lat, lng, lat):\n",
    "    diff_x = 100\n",
    "    diff_y = 100\n",
    "    pos_x = 0\n",
    "    pos_y = 0\n",
    "    for x in X_lng:\n",
    "        diff = abs(x - lng)\n",
    "        if diff_x > diff:\n",
    "            pos_x = x\n",
    "            diff_x = diff\n",
    "\n",
    "    for y in Y_lat:\n",
    "        diff = abs(y - lat)\n",
    "        if diff_y > diff:\n",
    "            pos_y = y\n",
    "            diff_y = diff\n",
    "    return (pos_x, pos_y)\n",
    "\n",
    "def get_wind_comps(obs):\n",
    "    # ESE at 11 knots\n",
    "    # WSW at greater than 99 knots\n",
    "    if 'knots' in obs and 'variable' not in obs:\n",
    "        compass_point, mag = re.findall(r\".*wind:\\s(\\w+)[\\s|\\w]*[\\s]([0-9]+)[\\s]knots\", obs)[0]\n",
    "        ang = portolan.middle(compass_point)\n",
    "        # print(f\"get_wind_comps, compass_point:{compass_point} mag:{mag}\\n\")\n",
    "        mag = int(mag) / 1.944\n",
    "        u = mag * np.sin(ang)\n",
    "        v = mag * np.cos(ang)\n",
    "        return (u, v)\n",
    "    else:\n",
    "        return (0, 0)\n",
    "\n",
    "def elev_to_press_level(elev):\n",
    "    max_diff = 10000\n",
    "    level = 0\n",
    "    for (idx, val) in enumerate(PRESSURE_LEVELS_HEIGHTS_VALUES):\n",
    "        diff = abs(val - elev)\n",
    "        if max_diff > diff:\n",
    "            level = idx\n",
    "            max_diff = diff\n",
    "    return level"
   ]
  },
  {
   "cell_type": "markdown",
   "metadata": {},
   "source": [
    "# Physical formulas"
   ]
  },
  {
   "cell_type": "code",
   "execution_count": 4,
   "metadata": {},
   "outputs": [],
   "source": [
    "def vapor_pressure(T):\n",
    "    \"\"\"Return partial water vapor pressure (e) or saturation vapor pressure (es) hPa.\n",
    "    \n",
    "    dew_point for (e) K\n",
    "    temperature for (es) K\n",
    "    more info: https://cran.r-project.org/web/packages/humidity/vignettes/humidity-measures.html\n",
    "    alternatives: August–Roche–Magnus formula\n",
    "    \"\"\"\n",
    "    a = 17.2693882\n",
    "    b = 35.86\n",
    "    e = 6.1078 * np.exp(a * (T - 273.16) / (T - b))\n",
    "    \n",
    "    return e\n",
    "\n",
    "def calculate_shum(dew_point, pressure):\n",
    "    \"\"\"Return specific humidity kg/kg.\n",
    "    \n",
    "    dew_point K\n",
    "    pressure  Pa\n",
    "    more info: https://cran.r-project.org/web/packages/humidity/vignettes/humidity-measures.html\n",
    "    \"\"\"\n",
    "    e = vapor_pressure(dew_point)\n",
    "    q = 0.622 * e  / (pressure - 0.378 * e)\n",
    "    \n",
    "    #print(dew_point, pressure, q)    \n",
    "    return q\n",
    "\n",
    "def calculate_rhum(dew_point, temp):\n",
    "    \"\"\" validator: https://www.wpc.ncep.noaa.gov/html/dewrh.shtml \"\"\"\n",
    "    rhum = 100 * vapor_pressure(dew_point) / vapor_pressure(temp)\n",
    "\n",
    "    #print(dew_point, temp, rhum)\n",
    "    return rhum"
   ]
  },
  {
   "cell_type": "code",
   "execution_count": 5,
   "metadata": {},
   "outputs": [
    {
     "name": "stdout",
     "output_type": "stream",
     "text": [
      "9580\n"
     ]
    }
   ],
   "source": [
    "noaa_stations = get_stations_with_coords()\n",
    "print(len(noaa_stations))"
   ]
  },
  {
   "cell_type": "code",
   "execution_count": 6,
   "metadata": {},
   "outputs": [
    {
     "name": "stdout",
     "output_type": "stream",
     "text": [
      "station: KHRL\n",
      "type: routine report, cycle 22 (automatic report)\n",
      "time: Wed Nov 11 21:52:00 2020\n",
      "temperature: 27.8 C\n",
      "dew point: 20.6 C\n",
      "wind: E at 11 knots\n",
      "visibility: 10 miles\n",
      "pressure: 1010.5 mb\n",
      "sky: a few clouds at 3600 feet\n",
      "     broken clouds at 6000 feet\n",
      "sea-level pressure: 1010.5 mb\n",
      "remarks:\n",
      "- Automated station (type 2)\n",
      "METAR: KHRL 112152Z 10011KT 10SM FEW036 BKN060 28/21 A2984 RMK AO2 SLP105 T02780206\n"
     ]
    },
    {
     "data": {
      "text/plain": [
       "0.0001492725956726276"
      ]
     },
     "execution_count": 6,
     "metadata": {},
     "output_type": "execute_result"
    }
   ],
   "source": [
    "line = 'KHRL 112152Z 10011KT 10SM FEW036 BKN060 28/21 A2984 RMK AO2 SLP105 T02780206'\n",
    "obs = Metar.Metar(line).string()\n",
    "print(obs)\n",
    "\n",
    "dew_point = get_dew_point(obs)\n",
    "temp = get_temperature(obs)\n",
    "press = get_pressure(obs)\n",
    "(u, v) = get_wind_comps(obs)\n",
    "\n",
    "calculate_rhum(dew_point, temp)\n",
    "calculate_shum(dew_point, press)"
   ]
  },
  {
   "cell_type": "markdown",
   "metadata": {},
   "source": [
    "# Multiprocessing METARs fetching"
   ]
  },
  {
   "cell_type": "code",
   "execution_count": 7,
   "metadata": {},
   "outputs": [],
   "source": [
    "def fetch_last_metars(station):\n",
    "    localdata = []\n",
    "    metar_obs = get_last_metar(station)\n",
    "    for obs_item in metar_obs:\n",
    "        hour = datetime.datetime.strptime(obs_item['datetime'], '%Y%m%d%H%M').hour\n",
    "        localdata.append([obs_item['lat'], obs_item['lng'], obs_item['elev'], obs_item['datetime'], obs_item['observation']])\n",
    "    return localdata"
   ]
  },
  {
   "cell_type": "code",
   "execution_count": 8,
   "metadata": {},
   "outputs": [
    {
     "data": {
      "text/plain": [
       "1344"
      ]
     },
     "execution_count": 8,
     "metadata": {},
     "output_type": "execute_result"
    }
   ],
   "source": [
    "jobs = multiprocessing.cpu_count()\n",
    "with multiprocessing.Pool(jobs - 1) as p:\n",
    "    data = p.map(fetch_last_metars, noaa_stations)\n",
    "    \n",
    "df = []\n",
    "for elem in data:\n",
    "    for arr in elem:\n",
    "        df.append(arr)\n",
    "\n",
    "len(df)"
   ]
  },
  {
   "cell_type": "code",
   "execution_count": 9,
   "metadata": {},
   "outputs": [
    {
     "data": {
      "text/html": [
       "<div>\n",
       "<style scoped>\n",
       "    .dataframe tbody tr th:only-of-type {\n",
       "        vertical-align: middle;\n",
       "    }\n",
       "\n",
       "    .dataframe tbody tr th {\n",
       "        vertical-align: top;\n",
       "    }\n",
       "\n",
       "    .dataframe thead th {\n",
       "        text-align: right;\n",
       "    }\n",
       "</style>\n",
       "<table border=\"1\" class=\"dataframe\">\n",
       "  <thead>\n",
       "    <tr style=\"text-align: right;\">\n",
       "      <th></th>\n",
       "      <th>lat</th>\n",
       "      <th>lng</th>\n",
       "      <th>elev</th>\n",
       "      <th>datetime</th>\n",
       "      <th>observation</th>\n",
       "    </tr>\n",
       "  </thead>\n",
       "  <tbody>\n",
       "    <tr>\n",
       "      <th>0</th>\n",
       "      <td>61.866667</td>\n",
       "      <td>-162.033333</td>\n",
       "      <td>31</td>\n",
       "      <td>202011192102</td>\n",
       "      <td>PADM 192102Z AUTO 07027G31KT 10SM OVC041 M06/M...</td>\n",
       "    </tr>\n",
       "    <tr>\n",
       "      <th>1</th>\n",
       "      <td>63.016667</td>\n",
       "      <td>-154.350000</td>\n",
       "      <td>126</td>\n",
       "      <td>202011192101</td>\n",
       "      <td>PAFS 192101Z AUTO 00000KT 8SM CLR M26/M29 A297...</td>\n",
       "    </tr>\n",
       "    <tr>\n",
       "      <th>2</th>\n",
       "      <td>32.466667</td>\n",
       "      <td>-87.950000</td>\n",
       "      <td>34</td>\n",
       "      <td>202011192115</td>\n",
       "      <td>KDYA 192115Z AUTO 11005KT 10SM CLR 21/M01 A304...</td>\n",
       "    </tr>\n",
       "    <tr>\n",
       "      <th>3</th>\n",
       "      <td>29.233333</td>\n",
       "      <td>-87.783333</td>\n",
       "      <td>53</td>\n",
       "      <td>202011192100</td>\n",
       "      <td>KVOA 192100Z AUTO 08021G27KT 7SM 23/17 A3034 R...</td>\n",
       "    </tr>\n",
       "    <tr>\n",
       "      <th>4</th>\n",
       "      <td>28.800000</td>\n",
       "      <td>-82.316667</td>\n",
       "      <td>15</td>\n",
       "      <td>202011192115</td>\n",
       "      <td>KINF 192115Z AUTO 05012G18KT 7SM CLR 22/16 A30...</td>\n",
       "    </tr>\n",
       "  </tbody>\n",
       "</table>\n",
       "</div>"
      ],
      "text/plain": [
       "         lat         lng elev      datetime  \\\n",
       "0  61.866667 -162.033333   31  202011192102   \n",
       "1  63.016667 -154.350000  126  202011192101   \n",
       "2  32.466667  -87.950000   34  202011192115   \n",
       "3  29.233333  -87.783333   53  202011192100   \n",
       "4  28.800000  -82.316667   15  202011192115   \n",
       "\n",
       "                                         observation  \n",
       "0  PADM 192102Z AUTO 07027G31KT 10SM OVC041 M06/M...  \n",
       "1  PAFS 192101Z AUTO 00000KT 8SM CLR M26/M29 A297...  \n",
       "2  KDYA 192115Z AUTO 11005KT 10SM CLR 21/M01 A304...  \n",
       "3  KVOA 192100Z AUTO 08021G27KT 7SM 23/17 A3034 R...  \n",
       "4  KINF 192115Z AUTO 05012G18KT 7SM CLR 22/16 A30...  "
      ]
     },
     "execution_count": 9,
     "metadata": {},
     "output_type": "execute_result"
    }
   ],
   "source": [
    "df = pd.DataFrame(data=df, columns=['lat', 'lng', 'elev', 'datetime', 'observation'])\n",
    "df.head(5)"
   ]
  },
  {
   "cell_type": "code",
   "execution_count": 10,
   "metadata": {},
   "outputs": [
    {
     "name": "stdout",
     "output_type": "stream",
     "text": [
      "station: PADM\n",
      "type: routine report, cycle 21 (automatic report)\n",
      "time: Thu Nov 19 21:02:00 2020\n",
      "temperature: -6.1 C\n",
      "dew point: -8.9 C\n",
      "wind: ENE at 27 knots, gusting to 31 knots\n",
      "peak wind: E at 33 knots at 20:05\n",
      "visibility: 10 miles\n",
      "pressure: 996.3 mb\n",
      "sky: overcast at 4100 feet\n",
      "remarks:\n",
      "- Automated station (type 2)\n",
      "- peak wind 33kt from 80 degrees at 20:05\n",
      "- SLPNO 6//// FZRANO\n",
      "METAR: PADM 192102Z AUTO 07027G31KT 10SM OVC041 M06/M09 A2942 RMK AO2 PK WND 08033/2005 SLPNO 6//// T10611089 FZRANO\n",
      "61.86666666666667 -162.03333333333333 31\n"
     ]
    }
   ],
   "source": [
    "idx = 0\n",
    "row = df.iloc[idx]\n",
    "obs = Metar.Metar(row['observation']).string()\n",
    "print(obs)\n",
    "print(row['lat'], row['lng'], row['elev'])"
   ]
  },
  {
   "cell_type": "code",
   "execution_count": 11,
   "metadata": {},
   "outputs": [
    {
     "data": {
      "text/html": [
       "<div>\n",
       "<style scoped>\n",
       "    .dataframe tbody tr th:only-of-type {\n",
       "        vertical-align: middle;\n",
       "    }\n",
       "\n",
       "    .dataframe tbody tr th {\n",
       "        vertical-align: top;\n",
       "    }\n",
       "\n",
       "    .dataframe thead th {\n",
       "        text-align: right;\n",
       "    }\n",
       "</style>\n",
       "<table border=\"1\" class=\"dataframe\">\n",
       "  <thead>\n",
       "    <tr style=\"text-align: right;\">\n",
       "      <th></th>\n",
       "      <th>lat</th>\n",
       "      <th>lng</th>\n",
       "      <th>elev</th>\n",
       "      <th>datetime</th>\n",
       "      <th>observation</th>\n",
       "    </tr>\n",
       "  </thead>\n",
       "  <tbody>\n",
       "    <tr>\n",
       "      <th>671</th>\n",
       "      <td>48.966667</td>\n",
       "      <td>2.450000</td>\n",
       "      <td>65</td>\n",
       "      <td>2020-11-19 21:00:00</td>\n",
       "      <td>LFPB 192100Z AUTO 32004KT 280V350 9999 SCT033 ...</td>\n",
       "    </tr>\n",
       "    <tr>\n",
       "      <th>900</th>\n",
       "      <td>18.300000</td>\n",
       "      <td>42.783333</td>\n",
       "      <td>2054</td>\n",
       "      <td>2020-11-19 21:00:00</td>\n",
       "      <td>OEKM 192100Z 00000KT CAVOK 14/12 Q1024 NOSIG</td>\n",
       "    </tr>\n",
       "    <tr>\n",
       "      <th>899</th>\n",
       "      <td>24.066667</td>\n",
       "      <td>47.583333</td>\n",
       "      <td>503</td>\n",
       "      <td>2020-11-19 21:00:00</td>\n",
       "      <td>OEKJ 192100Z 13010KT CAVOK 19/09 Q1021</td>\n",
       "    </tr>\n",
       "    <tr>\n",
       "      <th>898</th>\n",
       "      <td>21.683333</td>\n",
       "      <td>39.150000</td>\n",
       "      <td>15</td>\n",
       "      <td>2020-11-19 21:00:00</td>\n",
       "      <td>OEJN 192100Z 36002KT 9999 BKN035 29/23 Q1010 N...</td>\n",
       "    </tr>\n",
       "    <tr>\n",
       "      <th>897</th>\n",
       "      <td>27.050000</td>\n",
       "      <td>49.383333</td>\n",
       "      <td>8</td>\n",
       "      <td>2020-11-19 21:00:00</td>\n",
       "      <td>OEJB 192100Z AUTO 22002KT CAVOK 19/15 Q1016 NOSIG</td>\n",
       "    </tr>\n",
       "  </tbody>\n",
       "</table>\n",
       "</div>"
      ],
      "text/plain": [
       "           lat        lng  elev            datetime  \\\n",
       "671  48.966667   2.450000    65 2020-11-19 21:00:00   \n",
       "900  18.300000  42.783333  2054 2020-11-19 21:00:00   \n",
       "899  24.066667  47.583333   503 2020-11-19 21:00:00   \n",
       "898  21.683333  39.150000    15 2020-11-19 21:00:00   \n",
       "897  27.050000  49.383333     8 2020-11-19 21:00:00   \n",
       "\n",
       "                                           observation  \n",
       "671  LFPB 192100Z AUTO 32004KT 280V350 9999 SCT033 ...  \n",
       "900       OEKM 192100Z 00000KT CAVOK 14/12 Q1024 NOSIG  \n",
       "899             OEKJ 192100Z 13010KT CAVOK 19/09 Q1021  \n",
       "898  OEJN 192100Z 36002KT 9999 BKN035 29/23 Q1010 N...  \n",
       "897  OEJB 192100Z AUTO 22002KT CAVOK 19/15 Q1016 NOSIG  "
      ]
     },
     "execution_count": 11,
     "metadata": {},
     "output_type": "execute_result"
    }
   ],
   "source": [
    "df['datetime'] = pd.to_datetime(df.datetime)\n",
    "df = df.sort_values(by='datetime')\n",
    "\n",
    "df.head()"
   ]
  },
  {
   "cell_type": "code",
   "execution_count": 12,
   "metadata": {},
   "outputs": [],
   "source": [
    "def parse_metars(idx):\n",
    "    dt = []\n",
    "    cords = []\n",
    "    row = df.iloc[idx]\n",
    "    try:\n",
    "        temp = 0.0\n",
    "        obs = Metar.Metar(row['observation']).string()\n",
    "        if ('temperature' in obs):\n",
    "            temp = get_temperature(obs)\n",
    "            if temp < 331.15:\n",
    "                dt.append([row['datetime'].strftime(\"%Y-%m-%d %H:%M:%S\"), row['lat'], row['lng'], row['elev'], 'air', temp])\n",
    "\n",
    "        (u, v) = get_wind_comps(obs)\n",
    "        if (u, v) != (0,0):\n",
    "            dt.append([row['datetime'].strftime(\"%Y-%m-%d %H:%M:%S\"), row['lat'], row['lng'], row['elev'], 'uwnd', u])\n",
    "            dt.append([row['datetime'].strftime(\"%Y-%m-%d %H:%M:%S\"), row['lat'], row['lng'], row['elev'], 'vwnd', v])\n",
    "\n",
    "        if ('pressure' in obs):\n",
    "            press = get_pressure(obs)\n",
    "            if press < 105100 and press > 52200:\n",
    "                dt.append([row['datetime'].strftime(\"%Y-%m-%d %H:%M:%S\"), row['lat'], row['lng'], row['elev'], 'press', press])\n",
    "\n",
    "        if ('dew point' in obs and 'pressure' in obs):\n",
    "            dew_point = get_dew_point(obs)\n",
    "            if dew_point > 0 and press < 105100 and press > 52200 and dew_point <= temp and temp != 0 :\n",
    "                shum = calculate_shum(dew_point, press)\n",
    "                rhum = calculate_rhum(dew_point, temp)\n",
    "                dt.append([row['datetime'].strftime(\"%Y-%m-%d %H:%M:%S\"), row['lat'], row['lng'], row['elev'], 'rhum', rhum])\n",
    "                if shum < 0.05:\n",
    "                    dt.append([row['datetime'].strftime(\"%Y-%m-%d %H:%M:%S\"), row['lat'], row['lng'], row['elev'], 'shum', shum])\n",
    "\n",
    "        cords.append((row['lat'], row['lng']))\n",
    "    except Exception as e:\n",
    "        str_err = str(e)\n",
    "        if 'Unparsed groups' not in str_err and '_handleTime' not in str_err and '_handleWind' not in str_err and \"NSW\" not in str_err:\n",
    "            print('index:', idx, 'error:', e)\n",
    "    return (dt, cords)"
   ]
  },
  {
   "cell_type": "code",
   "execution_count": 13,
   "metadata": {},
   "outputs": [
    {
     "name": "stdout",
     "output_type": "stream",
     "text": [
      "total metars: 7377, active stations: 1306\n"
     ]
    }
   ],
   "source": [
    "jobs = multiprocessing.cpu_count()\n",
    "with multiprocessing.Pool(jobs - 1) as p:\n",
    "    data = p.map(parse_metars, range(len(df)))\n",
    "    \n",
    "df_parsed_metars = []\n",
    "active_stations = []\n",
    "for elem in data:\n",
    "    df_parsed_metars += elem[0]\n",
    "    for cords in elem[1]:\n",
    "        if (cords not in active_stations):\n",
    "            active_stations.append(cords)\n",
    "\n",
    "print(f\"total metars: {len(df_parsed_metars)}, active stations: {len(active_stations)}\")"
   ]
  },
  {
   "cell_type": "code",
   "execution_count": 14,
   "metadata": {},
   "outputs": [
    {
     "data": {
      "text/html": [
       "<div>\n",
       "<style scoped>\n",
       "    .dataframe tbody tr th:only-of-type {\n",
       "        vertical-align: middle;\n",
       "    }\n",
       "\n",
       "    .dataframe tbody tr th {\n",
       "        vertical-align: top;\n",
       "    }\n",
       "\n",
       "    .dataframe thead th {\n",
       "        text-align: right;\n",
       "    }\n",
       "</style>\n",
       "<table border=\"1\" class=\"dataframe\">\n",
       "  <thead>\n",
       "    <tr style=\"text-align: right;\">\n",
       "      <th></th>\n",
       "      <th>datetime</th>\n",
       "      <th>lat</th>\n",
       "      <th>lng</th>\n",
       "      <th>elev</th>\n",
       "      <th>variable</th>\n",
       "      <th>value</th>\n",
       "    </tr>\n",
       "  </thead>\n",
       "  <tbody>\n",
       "    <tr>\n",
       "      <th>0</th>\n",
       "      <td>2020-11-19 21:00:00</td>\n",
       "      <td>48.966667</td>\n",
       "      <td>2.450000</td>\n",
       "      <td>65</td>\n",
       "      <td>air</td>\n",
       "      <td>281.150000</td>\n",
       "    </tr>\n",
       "    <tr>\n",
       "      <th>1</th>\n",
       "      <td>2020-11-19 21:00:00</td>\n",
       "      <td>48.966667</td>\n",
       "      <td>2.450000</td>\n",
       "      <td>65</td>\n",
       "      <td>uwnd</td>\n",
       "      <td>-0.362234</td>\n",
       "    </tr>\n",
       "    <tr>\n",
       "      <th>2</th>\n",
       "      <td>2020-11-19 21:00:00</td>\n",
       "      <td>48.966667</td>\n",
       "      <td>2.450000</td>\n",
       "      <td>65</td>\n",
       "      <td>vwnd</td>\n",
       "      <td>2.025477</td>\n",
       "    </tr>\n",
       "    <tr>\n",
       "      <th>3</th>\n",
       "      <td>2020-11-19 21:00:00</td>\n",
       "      <td>48.966667</td>\n",
       "      <td>2.450000</td>\n",
       "      <td>65</td>\n",
       "      <td>press</td>\n",
       "      <td>103300.000000</td>\n",
       "    </tr>\n",
       "    <tr>\n",
       "      <th>4</th>\n",
       "      <td>2020-11-19 21:00:00</td>\n",
       "      <td>48.966667</td>\n",
       "      <td>2.450000</td>\n",
       "      <td>65</td>\n",
       "      <td>rhum</td>\n",
       "      <td>93.389669</td>\n",
       "    </tr>\n",
       "    <tr>\n",
       "      <th>5</th>\n",
       "      <td>2020-11-19 21:00:00</td>\n",
       "      <td>48.966667</td>\n",
       "      <td>2.450000</td>\n",
       "      <td>65</td>\n",
       "      <td>shum</td>\n",
       "      <td>0.000060</td>\n",
       "    </tr>\n",
       "    <tr>\n",
       "      <th>6</th>\n",
       "      <td>2020-11-19 21:00:00</td>\n",
       "      <td>18.300000</td>\n",
       "      <td>42.783333</td>\n",
       "      <td>2054</td>\n",
       "      <td>air</td>\n",
       "      <td>287.150000</td>\n",
       "    </tr>\n",
       "    <tr>\n",
       "      <th>7</th>\n",
       "      <td>2020-11-19 21:00:00</td>\n",
       "      <td>18.300000</td>\n",
       "      <td>42.783333</td>\n",
       "      <td>2054</td>\n",
       "      <td>press</td>\n",
       "      <td>102400.000000</td>\n",
       "    </tr>\n",
       "    <tr>\n",
       "      <th>8</th>\n",
       "      <td>2020-11-19 21:00:00</td>\n",
       "      <td>18.300000</td>\n",
       "      <td>42.783333</td>\n",
       "      <td>2054</td>\n",
       "      <td>rhum</td>\n",
       "      <td>87.736235</td>\n",
       "    </tr>\n",
       "    <tr>\n",
       "      <th>9</th>\n",
       "      <td>2020-11-19 21:00:00</td>\n",
       "      <td>18.300000</td>\n",
       "      <td>42.783333</td>\n",
       "      <td>2054</td>\n",
       "      <td>shum</td>\n",
       "      <td>0.000085</td>\n",
       "    </tr>\n",
       "  </tbody>\n",
       "</table>\n",
       "</div>"
      ],
      "text/plain": [
       "              datetime        lat        lng  elev variable          value\n",
       "0  2020-11-19 21:00:00  48.966667   2.450000    65      air     281.150000\n",
       "1  2020-11-19 21:00:00  48.966667   2.450000    65     uwnd      -0.362234\n",
       "2  2020-11-19 21:00:00  48.966667   2.450000    65     vwnd       2.025477\n",
       "3  2020-11-19 21:00:00  48.966667   2.450000    65    press  103300.000000\n",
       "4  2020-11-19 21:00:00  48.966667   2.450000    65     rhum      93.389669\n",
       "5  2020-11-19 21:00:00  48.966667   2.450000    65     shum       0.000060\n",
       "6  2020-11-19 21:00:00  18.300000  42.783333  2054      air     287.150000\n",
       "7  2020-11-19 21:00:00  18.300000  42.783333  2054    press  102400.000000\n",
       "8  2020-11-19 21:00:00  18.300000  42.783333  2054     rhum      87.736235\n",
       "9  2020-11-19 21:00:00  18.300000  42.783333  2054     shum       0.000085"
      ]
     },
     "execution_count": 14,
     "metadata": {},
     "output_type": "execute_result"
    }
   ],
   "source": [
    "df_metar_info = pd.DataFrame(df_parsed_metars,columns=['datetime','lat','lng','elev','variable','value'])\n",
    "\n",
    "df_metar_info.head(10)"
   ]
  },
  {
   "cell_type": "code",
   "execution_count": 15,
   "metadata": {},
   "outputs": [],
   "source": [
    "all_df_datetimes = []\n",
    "\n",
    "for df_datetime in df_metar_info.datetime.unique():\n",
    "    parsed_datetime = datetime.datetime.strptime(df_datetime, '%Y-%m-%d %H:%M:%S')\n",
    "    if parsed_datetime.minute == 0:\n",
    "        all_df_datetimes.append(parsed_datetime)"
   ]
  },
  {
   "cell_type": "code",
   "execution_count": 16,
   "metadata": {},
   "outputs": [
    {
     "data": {
      "image/png": "[encoded data removed]",
      "text/plain": [
       "<Figure size 432x288 with 1 Axes>"
      ]
     },
     "metadata": {},
     "output_type": "display_data"
    },
    {
     "data": {
      "image/png": "[encoded data removed]",
      "text/plain": [
       "<Figure size 432x288 with 1 Axes>"
      ]
     },
     "metadata": {},
     "output_type": "display_data"
    },
    {
     "data": {
      "image/png": "[encoded data removed]",
      "text/plain": [
       "<Figure size 432x288 with 1 Axes>"
      ]
     },
     "metadata": {},
     "output_type": "display_data"
    }
   ],
   "source": [
    "lati = []\n",
    "lngt = []\n",
    "lati2 = []\n",
    "lngt2 = []\n",
    "dataexport=[]\n",
    "for station in noaa_stations:\n",
    "    (lat, lng, elev) = station['coords'].split('+')\n",
    "    lati.append(gms_to_lat_lng(lat))\n",
    "    lngt.append(gms_to_lat_lng(lng))\n",
    "    nombreEstacion=station['ICAO']\n",
    "    dataexport.append([nombreEstacion,gms_to_lat_lng(lat),gms_to_lat_lng(lng),elev])\n",
    "\n",
    "m = Basemap(resolution='l', lat_0=0, lon_0=0)\n",
    "m.drawcoastlines()\n",
    "m.drawcountries()\n",
    "m.drawstates()\n",
    "m.drawparallels(np.arange(-87.159, 87.159, 20))\n",
    "m.drawmeridians(np.arange(0, 357.5, 20))\n",
    "m.fillcontinents(color='white')\n",
    "m.scatter(\n",
    "    lngt,\n",
    "    lati,\n",
    "    marker='+',\n",
    "    color='r',\n",
    "    zorder=1.5,\n",
    "    label='All stations',\n",
    "    )\n",
    "plt.legend()\n",
    "plt.savefig('last/all_stations.jpg', dpi=600)\n",
    "plt.show()\n",
    "\n",
    "for station in active_stations:\n",
    "    row = df.iloc[idx]\n",
    "    lati2.append(station[0])\n",
    "    lngt2.append(station[1])\n",
    "    \n",
    "m = Basemap(resolution='l', lat_0=0, lon_0=0)\n",
    "m.drawcoastlines()\n",
    "m.drawcountries()\n",
    "m.drawstates()\n",
    "m.drawparallels(np.arange(-87.159, 87.159, 20))\n",
    "m.drawmeridians(np.arange(0, 357.5, 20))\n",
    "m.fillcontinents(color='white')\n",
    "m.scatter(\n",
    "    lngt2,\n",
    "    lati2,\n",
    "    marker='.',\n",
    "    color='b',\n",
    "    zorder=1.5,\n",
    "    label='Active stations',\n",
    "    )\n",
    "plt.legend()\n",
    "plt.savefig('last/active_stations.jpg', dpi=600)\n",
    "plt.show()\n",
    "\n",
    "m = Basemap(resolution='l', lat_0=0, lon_0=0)\n",
    "m.drawcoastlines()\n",
    "m.drawcountries()\n",
    "m.drawstates()\n",
    "m.drawparallels(np.arange(-87.159, 87.159, 20))\n",
    "m.drawmeridians(np.arange(0, 357.5, 20))\n",
    "m.fillcontinents(color='white')\n",
    "m.scatter(\n",
    "    lngt,\n",
    "    lati,\n",
    "    marker='+',\n",
    "    color='r',\n",
    "    zorder=1.5,\n",
    "    label='All stations',\n",
    "    )\n",
    "m.scatter(\n",
    "    lngt2,\n",
    "    lati2,\n",
    "    marker='.',\n",
    "    color='b',\n",
    "    zorder=1.5,\n",
    "    label='Active stations',\n",
    "    )\n",
    "plt.legend()\n",
    "plt.savefig('last/all_stations_vs_active_stations.jpg', dpi=600)\n",
    "plt.show()"
   ]
  },
  {
   "cell_type": "code",
   "execution_count": 17,
   "metadata": {},
   "outputs": [
    {
     "data": {
      "text/plain": [
       "count    1292.000000\n",
       "mean        0.000076\n",
       "std         0.000056\n",
       "min         0.000001\n",
       "25%         0.000034\n",
       "50%         0.000057\n",
       "75%         0.000105\n",
       "max         0.000220\n",
       "Name: value, dtype: float64"
      ]
     },
     "execution_count": 17,
     "metadata": {},
     "output_type": "execute_result"
    },
    {
     "data": {
      "image/png": "[encoded data removed]",
      "text/plain": [
       "<Figure size 432x288 with 1 Axes>"
      ]
     },
     "metadata": {
      "needs_background": "light"
     },
     "output_type": "display_data"
    }
   ],
   "source": [
    "data = df_metar_info.loc[df_metar_info['variable']=='shum']['value']\n",
    "plt.hist(data)\n",
    "data.describe()"
   ]
  },
  {
   "cell_type": "code",
   "execution_count": 18,
   "metadata": {},
   "outputs": [
    {
     "data": {
      "text/plain": [
       "count    1292.000000\n",
       "mean       73.768437\n",
       "std        18.472090\n",
       "min         5.950391\n",
       "25%        63.389874\n",
       "50%        77.708384\n",
       "75%        87.167283\n",
       "max       100.000000\n",
       "Name: value, dtype: float64"
      ]
     },
     "execution_count": 18,
     "metadata": {},
     "output_type": "execute_result"
    },
    {
     "data": {
      "image/png": "[encoded data removed]",
      "text/plain": [
       "<Figure size 432x288 with 1 Axes>"
      ]
     },
     "metadata": {
      "needs_background": "light"
     },
     "output_type": "display_data"
    }
   ],
   "source": [
    "data = df_metar_info.loc[df_metar_info['variable']=='rhum']['value']\n",
    "plt.hist(data)\n",
    "data.describe()"
   ]
  },
  {
   "cell_type": "code",
   "execution_count": 19,
   "metadata": {},
   "outputs": [
    {
     "data": {
      "text/plain": [
       "count      1298.000000\n",
       "mean     101851.171032\n",
       "std         941.764130\n",
       "min       97000.000000\n",
       "25%      101190.000000\n",
       "50%      101700.000000\n",
       "75%      102400.000000\n",
       "max      104500.000000\n",
       "Name: value, dtype: float64"
      ]
     },
     "execution_count": 19,
     "metadata": {},
     "output_type": "execute_result"
    },
    {
     "data": {
      "image/png": "[encoded data removed]",
      "text/plain": [
       "<Figure size 432x288 with 1 Axes>"
      ]
     },
     "metadata": {
      "needs_background": "light"
     },
     "output_type": "display_data"
    }
   ],
   "source": [
    "data = df_metar_info.loc[df_metar_info['variable']=='press']['value']\n",
    "plt.hist(data)\n",
    "data.describe()"
   ]
  },
  {
   "cell_type": "code",
   "execution_count": 20,
   "metadata": {},
   "outputs": [
    {
     "data": {
      "text/plain": [
       "count    1303.000000\n",
       "mean      284.164198\n",
       "std        13.556122\n",
       "min       236.150000\n",
       "25%       276.150000\n",
       "50%       286.150000\n",
       "75%       296.150000\n",
       "max       308.150000\n",
       "Name: value, dtype: float64"
      ]
     },
     "execution_count": 20,
     "metadata": {},
     "output_type": "execute_result"
    },
    {
     "data": {
      "image/png": "[encoded data removed]",
      "text/plain": [
       "<Figure size 432x288 with 1 Axes>"
      ]
     },
     "metadata": {
      "needs_background": "light"
     },
     "output_type": "display_data"
    }
   ],
   "source": [
    "data = df_metar_info.loc[df_metar_info['variable']=='air']['value']\n",
    "plt.hist(data)\n",
    "data.describe()"
   ]
  },
  {
   "cell_type": "code",
   "execution_count": 21,
   "metadata": {},
   "outputs": [
    {
     "data": {
      "text/plain": [
       "count    1096.000000\n",
       "mean       -0.074213\n",
       "std         3.585937\n",
       "min       -13.875298\n",
       "25%        -2.025252\n",
       "50%        -0.181117\n",
       "75%         2.039516\n",
       "max        14.276612\n",
       "Name: value, dtype: float64"
      ]
     },
     "execution_count": 21,
     "metadata": {},
     "output_type": "execute_result"
    },
    {
     "data": {
      "image/png": "[encoded data removed]",
      "text/plain": [
       "<Figure size 432x288 with 1 Axes>"
      ]
     },
     "metadata": {
      "needs_background": "light"
     },
     "output_type": "display_data"
    }
   ],
   "source": [
    "data = df_metar_info.loc[df_metar_info['variable']=='uwnd']['value']\n",
    "plt.hist(data)\n",
    "data.describe()"
   ]
  },
  {
   "cell_type": "code",
   "execution_count": 22,
   "metadata": {},
   "outputs": [
    {
     "data": {
      "text/plain": [
       "count    1096.000000\n",
       "mean        0.337332\n",
       "std         3.409990\n",
       "min       -11.272599\n",
       "25%        -1.945330\n",
       "50%         0.476521\n",
       "75%         2.348094\n",
       "max        13.165602\n",
       "Name: value, dtype: float64"
      ]
     },
     "execution_count": 22,
     "metadata": {},
     "output_type": "execute_result"
    },
    {
     "data": {
      "image/png": "[encoded data removed]",
      "text/plain": [
       "<Figure size 432x288 with 1 Axes>"
      ]
     },
     "metadata": {
      "needs_background": "light"
     },
     "output_type": "display_data"
    }
   ],
   "source": [
    "data = df_metar_info.loc[df_metar_info['variable']=='vwnd']['value']\n",
    "plt.hist(data)\n",
    "data.describe()"
   ]
  },
  {
   "cell_type": "code",
   "execution_count": 23,
   "metadata": {},
   "outputs": [],
   "source": [
    "def create_csv(file_datetime):\n",
    "    filename = \"last/{}.csv\".format(file_datetime.strftime('%Y%m%d%H'))\n",
    "    df_file = df_metar_info.loc[df_metar_info['datetime'].str.contains(file_datetime.strftime('%Y-%m-%d %H'))]\n",
    "    df_file.to_csv(filename, index=False)"
   ]
  },
  {
   "cell_type": "code",
   "execution_count": 27,
   "metadata": {},
   "outputs": [],
   "source": [
    "path = os.path.abspath(os.getcwd())\n",
    "shutil.rmtree(f\"{path}/last\")\n",
    "os.mkdir(f\"{path}/last\")"
   ]
  },
  {
   "cell_type": "code",
   "execution_count": 28,
   "metadata": {},
   "outputs": [],
   "source": [
    "jobs = multiprocessing.cpu_count()\n",
    "with multiprocessing.Pool(jobs - 1) as p:\n",
    "    data = p.map(create_csv, all_df_datetimes)"
   ]
  },
  {
   "cell_type": "code",
   "execution_count": null,
   "metadata": {},
   "outputs": [],
   "source": []
  }
 ],
 "metadata": {
  "kernelspec": {
   "display_name": "Python 3",
   "language": "python",
   "name": "python3"
  },
  "language_info": {
   "codemirror_mode": {
    "name": "ipython",
    "version": 3
   },
   "file_extension": ".py",
   "mimetype": "text/x-python",
   "name": "python",
   "nbconvert_exporter": "python",
   "pygments_lexer": "ipython3",
   "version": "3.6.8"
  }
 },
 "nbformat": 4,
 "nbformat_minor": 4
}
